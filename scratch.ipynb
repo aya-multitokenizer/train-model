{
 "cells": [
  {
   "cell_type": "code",
   "execution_count": 2,
   "id": "da08a5fb",
   "metadata": {},
   "outputs": [],
   "source": [
    "DO_TOKENIZATION=False\n",
    "TRAIN_MODEL=True"
   ]
  },
  {
   "cell_type": "code",
   "execution_count": 3,
   "id": "feadb260-56af-4aa5-951a-55d3a04d157e",
   "metadata": {
    "scrolled": true
   },
   "outputs": [],
   "source": [
    "from datasets import load_dataset\n",
    "from itertools import chain\n",
    "import tokenizers\n",
    "import tqdm\n",
    "\n",
    "\n",
    "import os\n",
    "import os.path\n",
    "import random\n",
    "import torch\n",
    "\n",
    "import torch.nn as nn\n",
    "from torch.nn import functional as F"
   ]
  },
  {
   "cell_type": "code",
   "execution_count": 4,
   "id": "8aad6bde-9398-430e-a454-294507e0d2a4",
   "metadata": {
    "scrolled": true
   },
   "outputs": [],
   "source": [
    "if DO_TOKENIZATION:\n",
    "    tinystories_ds = load_dataset(\"roneneldan/TinyStories\")\n",
    "    datafiles = [f'stories_{i:02d}.json' for i in range(1, 50)]\n",
    "    tinystories_sp_ds = load_dataset(\"robrenaud/multilingual_tinystories\", data_files=datafiles)"
   ]
  },
  {
   "cell_type": "code",
   "execution_count": 5,
   "id": "e4984ef1-357f-4081-948b-8e847dd1b2b3",
   "metadata": {},
   "outputs": [],
   "source": [
    "if DO_TOKENIZATION:\n",
    "    with open('train.txt', 'w') as full_stories_output :\n",
    "        for story in tqdm.tqdm(tinystories_sp_ds['train']['story']):\n",
    "            full_stories_output.write(story)\n",
    "        \n",
    "        for story in tqdm.tqdm(tinystories_ds['train']['text']):\n",
    "            full_stories_output.write(story)"
   ]
  },
  {
   "cell_type": "code",
   "execution_count": 6,
   "id": "8012fdd8-a814-4f7c-a550-8d0f50870fd8",
   "metadata": {},
   "outputs": [],
   "source": [
    "if DO_TOKENIZATION:\n",
    "    tokenizer = tokenizers.ByteLevelBPETokenizer()\n",
    "\n",
    "    tokenizer.train(files=['train.txt'], vocab_size=2**13, min_frequency=2)\n",
    "\n",
    "    tokenizer.save_model('.', 'tiny-stories-bpe')\n",
    "else:\n",
    "    # still need to load the tokenizer\n",
    "    tokenizer = tokenizers.ByteLevelBPETokenizer(\n",
    "        \"./tiny-stories-bpe-vocab.json\", \n",
    "        \"./tiny-stories-bpe-merges.txt\")"
   ]
  },
  {
   "cell_type": "code",
   "execution_count": 7,
   "id": "5a3f96fe-6e25-424b-8f9b-7bac52c3d327",
   "metadata": {},
   "outputs": [],
   "source": [
    "if DO_TOKENIZATION:\n",
    "    stories = chain(tinystories_ds['train']['text'], tinystories_sp_ds['train']['story'])\n",
    "    \n",
    "    if not os.path.isdir('tokenized'):\n",
    "        os.mkdir('tokenized')\n",
    "    output_buf = []\n",
    "    num_outputs = 0\n",
    "    for story in tqdm.tqdm(stories):\n",
    "        encoded = torch.tensor(tokenizer.encode(story).ids, dtype=torch.short)\n",
    "        output_buf.append(encoded)\n",
    "        if len(output_buf) > 500_000:\n",
    "            torch.save(output_buf, f'tokenized/tokenized-{num_outputs}.pt')\n",
    "            num_outputs += 1\n",
    "            output_buf = []\n",
    "    if output_buf:\n",
    "        torch.save(output_buf, f'tokenized/tokenized-{num_outputs}.pt')\n",
    "        num_outputs += 1\n",
    "        output_buf = []"
   ]
  },
  {
   "cell_type": "markdown",
   "id": "0d27547a-ec20-40db-ab71-7dfd168330b7",
   "metadata": {},
   "source": [
    "## Train"
   ]
  },
  {
   "cell_type": "code",
   "execution_count": 8,
   "id": "b14cde2c-5155-4b5e-8d61-84310b155dac",
   "metadata": {},
   "outputs": [],
   "source": [
    "#----- imports --------\n",
    "import tqdm\n",
    "import torch\n",
    "# import wandb\n",
    "import os\n",
    "import tokenizers\n",
    "\n",
    "\n",
    "device= 'cuda' if torch.cuda.is_available() else 'cpu'\n",
    "torch.set_default_device(device)\n",
    "assert device == 'cuda', \"This notebook is not optimized for CPU\"\n",
    "\n",
    "config = {\n",
    "    \"learning_rate\": 1e-3,\n",
    "    \"eval_interval\": 300,\n",
    "    \"max_iters\": 60000, \n",
    "    \"H\": 32, # per head dimension size\n",
    "    \"B\": 64, # batch size\n",
    "    \"T\": 256, # Sequence length\n",
    "    \"C\": 256, # model size\n",
    "    \"feedforward_factor\": 3,\n",
    "    \"n_heads\": 8,\n",
    "    \"dropout\": 0.0,\n",
    "    \"l2_penalty\": 0.0,\n",
    "    \"n_layers\": 12,\n",
    "    \"tokenizer_vocab_size\": 2**13,\n",
    "    # \"git_hash\": os.popen(\"git rev-parse HEAD\").read().strip()\n",
    "}\n",
    "\n",
    "# initial\n",
    "for k,v in config.items():\n",
    "    locals ()[k] = v"
   ]
  },
  {
   "cell_type": "code",
   "execution_count": 9,
   "id": "fe0f4727-b533-4f9a-a5ff-f7498c41659b",
   "metadata": {},
   "outputs": [],
   "source": [
    "def load_sharded_story(shard_no):\n",
    "    return torch.load(f'tokenized/tokenized-{shard_no}.pt')"
   ]
  },
  {
   "cell_type": "code",
   "execution_count": 10,
   "id": "5f43fb8b-987f-4d14-9712-ba2758335308",
   "metadata": {},
   "outputs": [
    {
     "name": "stderr",
     "output_type": "stream",
     "text": [
      "100%|██████████| 15/15 [07:01<00:00, 28.09s/it]  \n"
     ]
    }
   ],
   "source": [
    "# load the tokenized stories in parallel using threads\n",
    "# this is faster than loading them sequentially\n",
    "num_shards = len(os.listdir('tokenized'))\n",
    "from concurrent.futures import ThreadPoolExecutor\n",
    "with ThreadPoolExecutor() as pool:\n",
    "    stories = list(tqdm.tqdm(pool.map(load_sharded_story, range(num_shards)), total=num_shards))"
   ]
  },
  {
   "cell_type": "code",
   "execution_count": 11,
   "id": "f4189c06-523e-46aa-a571-dd4bc149ec82",
   "metadata": {},
   "outputs": [],
   "source": [
    "all_stories = []\n",
    "for story in stories:\n",
    "    all_stories.extend(story)\n",
    "random.seed(1337)\n",
    "random.shuffle(all_stories)"
   ]
  },
  {
   "cell_type": "code",
   "execution_count": 12,
   "id": "9b696dc3-de6f-42e7-9095-a96a0912ff80",
   "metadata": {},
   "outputs": [
    {
     "name": "stdout",
     "output_type": "stream",
     "text": [
      "length of dataset in stories:  7019719\n",
      "length of stories in tokens 1348019169\n"
     ]
    }
   ],
   "source": [
    "print(\"length of dataset in stories: \", len(all_stories))\n",
    "print(\"length of stories in tokens\", sum(len(story) for story in all_stories))"
   ]
  },
  {
   "cell_type": "code",
   "execution_count": 13,
   "id": "587a53cb-a587-4013-937e-b0d1ba02976b",
   "metadata": {},
   "outputs": [
    {
     "name": "stdout",
     "output_type": "stream",
     "text": [
      "# stories longer than 256 : 102027 out of 1000000, 10.20%\n"
     ]
    }
   ],
   "source": [
    "num_stories_to_check = 1_000_000\n",
    "num_long = sum(len(story) > T for story in all_stories[:num_stories_to_check])\n",
    "print(\n",
    "    f\"# stories longer than {T} : {num_long} out of {num_stories_to_check}, {num_long/num_stories_to_check:.2%}\")"
   ]
  },
  {
   "cell_type": "code",
   "execution_count": 14,
   "id": "e85b5b98-6e94-40e5-9a4f-5677d6124e7f",
   "metadata": {},
   "outputs": [
    {
     "name": "stdout",
     "output_type": "stream",
     "text": [
      "[718]\n",
      "Hola\n",
      "vocab size:  8192\n",
      "first story decoded:  Un perro llamado Spot corría. Spot corría rápido. Él jugaba en el parque. Luego, ¡un trueno! Spot se asustó. \n",
      "\n",
      "Spot corrió a casa. Mamá lo vio. \"¡Spot!\", dijo Mamá. \"¡No tengas miedo!\" Spot se acurrucó con Mamá. Ella lo abrazó.\n",
      "\n",
      "Después, ¡otro trueno! ¡Pero no era un trueno! Era Papá. Papá se reía. Él llevaba un gorro de trueno. \"¡Sorpresa!\", dijo Papá. \n",
      "\n",
      "Spot se rió. ¡No era un trueno malo! Era solo Papá. Él corrió a abrazar a Papá. Spot estaba feliz. \n",
      "\n",
      "Mamá sonrió. Spot era un perro feliz. Él amaba jugar con Papá. ¡Y amaba los truenos, ahora que sabía que eran solo Papá! \n",
      "\n"
     ]
    }
   ],
   "source": [
    "def encode(text):\n",
    "    return tokenizer.encode(text).ids\n",
    "def decode(encoded_text):\n",
    "    return tokenizer.decode(encoded_text)\n",
    "\n",
    "from tqdm import tqdm\n",
    "\n",
    "def batch_encode(text, batch_size):\n",
    "    tokens = []\n",
    "    for i in tqdm(range(0, len(text), batch_size)):\n",
    "        tokens.extend(encode(text[i:i+batch_size]))\n",
    "    return tokens\n",
    "\n",
    "\n",
    "hello_encoded = encode(\"Hola\")\n",
    "print(hello_encoded)\n",
    "print(decode(hello_encoded))\n",
    "vocab_size = tokenizer.get_vocab_size()\n",
    "print(\"vocab size: \", vocab_size)\n",
    "print('first story decoded: ', decode(all_stories[0].tolist()))\n",
    "PADDING_TOKEN_IDX= encode(\" \")[0]"
   ]
  },
  {
   "cell_type": "code",
   "execution_count": 15,
   "id": "a832f1a6-9afb-4125-81c4-b1e1457b0071",
   "metadata": {},
   "outputs": [],
   "source": [
    "n = int(0.9*len(all_stories))\n",
    "\n",
    "train_data = all_stories[:n]\n",
    "val_data = all_stories[n:]"
   ]
  },
  {
   "cell_type": "code",
   "execution_count": 16,
   "id": "1b29c76d-2e50-47a0-bb79-3a8d7819071d",
   "metadata": {},
   "outputs": [
    {
     "name": "stdout",
     "output_type": "stream",
     "text": [
      "tensor([ 220,  582,  723,   11,  297,  342,  630,  560,  431,  297,  919,  782,\n",
      "          13,  313,  569,  297,  782, 3210,  345, 2494,    0,  560,  440, 3610,\n",
      "        1157,   13,  313, 1622, 1065,  443,    0,  411,  936,   11,  350,  956,\n",
      "         782,  335,  312,  198, 1016,  375,  378,  322,   11,  292, 1655,  719,\n",
      "         297, 1164,   11,  560,   11,  740,  366, 1157,  483,  560,  346,  471,\n",
      "          13,  411,  366,  440, 1189,  340,  782,   13,  312,  198, 1865,   11,\n",
      "         340,  375,  378,  749,  256,  560,  297,  919,  934,   13,  313,  569,\n",
      "         297,  744,  725,    0,  484,  560,  378, 1273,  269,  315,  744,   13,\n",
      "         350,  954,   11,  375,  335,  936,   13,  312,  198, 1126, 2374, 1157,\n",
      "        1561,  315,  782,   13, 3105,  351,  340,  744,  310,  326,  792,   13,\n",
      "         405,  375,  345,  560,  666,   13,  458,  833,  377,  560,  346,  443,\n",
      "          13,  313,  278,  782,  366,  397, 1065, 1892, 2081,  345, 1157,    0,\n",
      "         198,  220,  220,  220,  220,  220,  220,  220,  220,  220,  220,  220,\n",
      "         220,  220,  220,  220,  220,  220,  220,  220,  220,  220,  220,  220,\n",
      "         220,  220,  220,  220,  220,  220,  220,  220,  220,  220,  220,  220,\n",
      "         220,  220,  220,  220,  220,  220,  220,  220,  220,  220,  220,  220,\n",
      "         220,  220,  220,  220,  220,  220,  220,  220,  220,  220,  220,  220,\n",
      "         220,  220,  220,  220,  220,  220,  220,  220,  220,  220,  220,  220,\n",
      "         220,  220,  220,  220,  220,  220,  220,  220,  220,  220,  220,  220,\n",
      "         220,  220,  220,  220,  220,  220,  220,  220,  220,  220,  220,  220,\n",
      "         220,  220,  220,  220,  220,  220,  220,  220,  220,  220,  220,  220,\n",
      "         220,  220,  220,  220], device='cuda:0')\n",
      "tensor([ 582,  723,   11,  297,  342,  630,  560,  431,  297,  919,  782,   13,\n",
      "         313,  569,  297,  782, 3210,  345, 2494,    0,  560,  440, 3610, 1157,\n",
      "          13,  313, 1622, 1065,  443,    0,  411,  936,   11,  350,  956,  782,\n",
      "         335,  312,  198, 1016,  375,  378,  322,   11,  292, 1655,  719,  297,\n",
      "        1164,   11,  560,   11,  740,  366, 1157,  483,  560,  346,  471,   13,\n",
      "         411,  366,  440, 1189,  340,  782,   13,  312,  198, 1865,   11,  340,\n",
      "         375,  378,  749,  256,  560,  297,  919,  934,   13,  313,  569,  297,\n",
      "         744,  725,    0,  484,  560,  378, 1273,  269,  315,  744,   13,  350,\n",
      "         954,   11,  375,  335,  936,   13,  312,  198, 1126, 2374, 1157, 1561,\n",
      "         315,  782,   13, 3105,  351,  340,  744,  310,  326,  792,   13,  405,\n",
      "         375,  345,  560,  666,   13,  458,  833,  377,  560,  346,  443,   13,\n",
      "         313,  278,  782,  366,  397, 1065, 1892, 2081,  345, 1157,    0,  198,\n",
      "         220,  220,  220,  220,  220,  220,  220,  220,  220,  220,  220,  220,\n",
      "         220,  220,  220,  220,  220,  220,  220,  220,  220,  220,  220,  220,\n",
      "         220,  220,  220,  220,  220,  220,  220,  220,  220,  220,  220,  220,\n",
      "         220,  220,  220,  220,  220,  220,  220,  220,  220,  220,  220,  220,\n",
      "         220,  220,  220,  220,  220,  220,  220,  220,  220,  220,  220,  220,\n",
      "         220,  220,  220,  220,  220,  220,  220,  220,  220,  220,  220,  220,\n",
      "         220,  220,  220,  220,  220,  220,  220,  220,  220,  220,  220,  220,\n",
      "         220,  220,  220,  220,  220,  220,  220,  220,  220,  220,  220,  220,\n",
      "         220,  220,  220,  220,  220,  220,  220,  220,  220,  220,  220,  220,\n",
      "         220,  220,  220,  220], device='cuda:0')\n"
     ]
    }
   ],
   "source": [
    "def get_batch(split):\n",
    "    data = train_data if split == 'train' else val_data\n",
    "    ix = torch.randint(0, len(data), (B,)) \n",
    "    # ix = [i for i in range(B)]\n",
    "    \n",
    "    x = torch.full((B, T), PADDING_TOKEN_IDX, dtype=torch.long)\n",
    "    y = torch.full((B, T), PADDING_TOKEN_IDX, dtype=torch.long)\n",
    "\n",
    "    for sequence_index, random_story_index in enumerate(ix):\n",
    "        story = data[random_story_index].long()[:T - 1]\n",
    "        x[sequence_index][1: story.shape[0]+1] = story\n",
    "        y[sequence_index][: story.shape[0]] = story\n",
    "\n",
    "    return x, y\n",
    "\n",
    "xb, yb = get_batch('train')\n",
    "\n",
    "print(xb[0])\n",
    "print(yb[0])"
   ]
  },
  {
   "cell_type": "code",
   "execution_count": 17,
   "id": "1a3ed8ea-281b-45fa-928a-b856abc13d59",
   "metadata": {},
   "outputs": [],
   "source": [
    "class Head(nn.Module):\n",
    "    '''One Head of self-attention'''\n",
    "    def __init__(self, H):\n",
    "        super().__init__()\n",
    "        self.query = nn.Linear(C, H, bias=False)\n",
    "        self.key = nn.Linear(C, H, bias=False)\n",
    "        self.value = nn.Linear(C, H, bias=False)\n",
    "        self.register_buffer('tril', torch.tril(torch.ones(T, T)))\n",
    "        self.dropout = nn.Dropout(dropout)\n",
    "\n",
    "    def forward(self, x):\n",
    "        query_vectors = self.query(x)\n",
    "        key_vectors = self.key(x)\n",
    "\n",
    "\n",
    "        # Attention masking(so we can't look into the past):\n",
    "        tril = self.tril\n",
    "        wei = torch.zeros(T, T) \n",
    "        wei = wei.masked_fill(tril == 0, float('-inf')) # set the upper triangular to -inf\n",
    "\n",
    "        # multiply the two to get the attention weights\n",
    "        attention_pattern = query_vectors @ key_vectors.transpose(-2, -1) # T, T\n",
    "        attention_pattern = attention_pattern / (H ** 0.5) # scale the attention pattern for numerical stability\n",
    "        attention_weights = F.softmax(attention_pattern + wei, dim=-1) # T, T (the row dimension is the query)\n",
    "        attention_weights = self.dropout(attention_weights)\n",
    "\n",
    "        value_vectors = self.value(x) # the direction we should go in the embedding space for each token (ie more blue) T, H\n",
    "\n",
    "        # apply the attention weights to the value vectors\n",
    "        context = attention_weights @ value_vectors # T, H\n",
    "\n",
    "        # project back into original space from value space\n",
    "        return context\n",
    "\n",
    "x = torch.randn(B,T,C)\n",
    "head = Head(H)"
   ]
  },
  {
   "cell_type": "code",
   "execution_count": 18,
   "id": "6a1ddfac-31a8-43b6-ac7f-646dbea39fb2",
   "metadata": {},
   "outputs": [],
   "source": [
    "class MultiHeadAttention(nn.Module):\n",
    "    '''Multiple heads of self-attention'''\n",
    "    def __init__(self, H, C, n_heads): # H is head embedding space size, n_heads is number of heads\n",
    "        super().__init__()\n",
    "        self.heads = nn.ModuleList([Head(H) for _ in range(n_heads)])\n",
    "        self.combine_heads = nn.Linear(H*n_heads, C)\n",
    "        self.dropout = nn.Dropout(dropout)\n",
    "\n",
    "    def forward(self,x):\n",
    "        x = torch.cat([head(x) for head in self.heads], dim=-1)\n",
    "        x = self.combine_heads(x)  # T, C\n",
    "        return self.dropout(x)"
   ]
  },
  {
   "cell_type": "code",
   "execution_count": 19,
   "id": "e64c34e5-ad29-440c-ab9c-0b8c4c153087",
   "metadata": {},
   "outputs": [
    {
     "data": {
      "text/plain": [
       "torch.Size([64, 256, 32])"
      ]
     },
     "execution_count": 19,
     "metadata": {},
     "output_type": "execute_result"
    }
   ],
   "source": [
    "head = MultiHeadAttention(H, C, n_heads)\n",
    "head.heads[0].forward(x).shape"
   ]
  },
  {
   "cell_type": "code",
   "execution_count": 20,
   "id": "d0beeabe-00ec-45c8-9911-366fec57a5c6",
   "metadata": {},
   "outputs": [],
   "source": [
    "class FeedForward(nn.Module):\n",
    "    '''Feed-forward neural network'''\n",
    "    def __init__(self, C):\n",
    "        super().__init__()\n",
    "        self.net = nn.Sequential(\n",
    "            nn.Linear(C, C * feedforward_factor),\n",
    "            nn.ReLU(),\n",
    "            nn.Linear(C * feedforward_factor, C),\n",
    "            nn.Dropout(dropout)\n",
    "        )\n",
    "\n",
    "    def forward(self, x):\n",
    "        return self.net(x)"
   ]
  },
  {
   "cell_type": "code",
   "execution_count": 21,
   "id": "450533d3-26cb-49f0-afde-777f1b6d8e2e",
   "metadata": {},
   "outputs": [],
   "source": [
    "class LayerNorm(nn.Module):\n",
    "    '''Layer normalization'''\n",
    "    def __init__(self, C, use_affine=True):\n",
    "        super().__init__()\n",
    "        self.gamma = nn.Parameter(torch.ones(C)) if use_affine else None\n",
    "        self.beta = nn.Parameter(torch.zeros(C)) if use_affine else None\n",
    "        \n",
    "    def forward(self, x):\n",
    "        mean = x.mean(-1, keepdim=True)\n",
    "        std = x.std(-1, keepdim=True)\n",
    "        if self.gamma is not None and self.beta is not None:\n",
    "            return self.gamma * (x - mean) / (std + 1e-6) + self.beta\n",
    "        else:\n",
    "            return (x - mean) / (std + 1e-6)"
   ]
  },
  {
   "cell_type": "code",
   "execution_count": 22,
   "id": "75b40957-1158-4e85-9b07-6a25d72338e3",
   "metadata": {},
   "outputs": [],
   "source": [
    "class Block(nn.Module):\n",
    "    '''Transformer block'''\n",
    "    def __init__(self, H, C, n_heads):\n",
    "        super().__init__()\n",
    "        self.attention = MultiHeadAttention(H, C, n_heads)\n",
    "        self.ff = FeedForward(C)\n",
    "        self.norm1 = LayerNorm(C, use_affine=True)\n",
    "        self.norm2 = LayerNorm(C, use_affine=True)\n",
    "\n",
    "    def forward(self, x):\n",
    "        x = x + self.attention(self.norm1(x))\n",
    "        x = x + self.ff(self.norm2(x))\n",
    "        return x"
   ]
  },
  {
   "cell_type": "code",
   "execution_count": 23,
   "id": "6224a0ef-2693-4e29-b989-3e80a046bd4b",
   "metadata": {},
   "outputs": [],
   "source": [
    "class GPT(nn.Module):\n",
    "    \n",
    "    def __init__(self, n_layers):\n",
    "        super().__init__()\n",
    "        self.token_embedding_table = nn.Embedding(vocab_size, C)\n",
    "        self.position_embedding_table = nn.Embedding(T, C)\n",
    "        self.lm_head = nn.Linear(C, vocab_size)\n",
    "        self.layers = nn.ModuleList([Block(H, C, n_heads) for _ in range(n_layers)])\n",
    "        self.block = nn.ModuleList([Block(H, C, n_heads)])\n",
    "    \n",
    "    def forward(self, idx, targets=None):\n",
    "        B, T = idx.shape\n",
    "        token_emb = self.token_embedding_table(idx) # batch_dim, sequence_dim, embedding_dim\n",
    "        pos_emb = self.position_embedding_table(torch.arange(T))\n",
    "        x = token_emb + pos_emb # token identities and positions contained\n",
    "\n",
    "        for layer in self.layers:\n",
    "            x = layer(x)\n",
    "\n",
    "        logits = self.lm_head(x) # batch_dim, sequence_dim, vocab_size\n",
    "\n",
    "        batch_dim, sequence_dim, embedding_dim = logits.size()\n",
    "\n",
    "        if targets is None:\n",
    "            return logits, None\n",
    "        else:\n",
    "            logits_loss_view = logits.view(-1, vocab_size) \n",
    "            targets_loss_view = targets.view(-1)\n",
    "            loss = F.cross_entropy(logits_loss_view, targets_loss_view)\n",
    "            return logits, loss\n",
    "\n",
    "    def generate(self, idx, max_new_tokens):\n",
    "        for _ in range(max_new_tokens):\n",
    "            logits, loss = self(idx[:,-T:])\n",
    "            # get the predictions of the last token\n",
    "            last_token_logits = logits[:, -1, :] # all batches, last token, all probabilities\n",
    "            # softmax to get probabilities\n",
    "            probabilities = F.softmax(last_token_logits, dim=-1)\n",
    "            # sample from the probabilities\n",
    "            next_token = torch.multinomial(probabilities, num_samples=1)\n",
    "            # add the new token to the idx tensor\n",
    "            idx = torch.cat((idx, next_token), dim=1)\n",
    "        return idx\n",
    "    def prompt_model(self, prompt, max_new_tokens, temperature=0.5):\n",
    "        autoregressive_seq = encode(prompt)\n",
    "        for _ in range(max_new_tokens):\n",
    "            prediction_index = len(autoregressive_seq)-1\n",
    "\n",
    "            model_input = torch.tensor(autoregressive_seq)\n",
    "            \n",
    "            while model_input.shape[0] < T:\n",
    "                pad_token = torch.tensor(encode(\"\\n\"))\n",
    "                model_input = torch.cat((model_input, pad_token), dim=0)\n",
    "\n",
    "            model_input\n",
    "            model_input = model_input.unsqueeze(0)\n",
    "\n",
    "            logits, loss = model(model_input)\n",
    "            prediction_token = logits[:, prediction_index, :] / temperature\n",
    "            probabilities = F.softmax(prediction_token, dim=-1)\n",
    "            next_token = torch.multinomial(probabilities, num_samples=1)\n",
    "            next_token = next_token.item()\n",
    "\n",
    "            autoregressive_seq.append(next_token)\n",
    "        # get the autoregressive sequence\n",
    "        return decode(autoregressive_seq)"
   ]
  },
  {
   "cell_type": "code",
   "execution_count": 30,
   "id": "34e95468-ce3b-4351-9355-2859a0d52979",
   "metadata": {},
   "outputs": [
    {
     "name": "stdout",
     "output_type": "stream",
     "text": [
      "torch.Size([64, 256, 8192])\n",
      "tensor(9.3777, device='cuda:0', grad_fn=<NllLossBackward0>)\n"
     ]
    },
    {
     "data": {
      "text/plain": [
       "'!!!!!!!!!!!!!!!!!!!!!!!!!!!!!!!!!!!!!!!!!!!!!!!!!!!!!!!!!!!!!!!!!!!!!!!!!!!!!!!!!!!!!!!!!!!!!!!!!!!!!!!!!!!!!!!!!!!!!!!!!!!!!!!!!!!!!!!!!!!!!!!!!!!!!!!!!!!!!!!!!!!!!!!!!!!!!!!!!!!!!!!!!!!!!!!!!!!!!!!!!!!!!!!!!!!!!!!!!!!!!!!!!!!!!!!!!!!!!!!!!!!!!!!!!!!!!!!!ownenta�ours cuentos las destro Jerry asustaralquier per something una estaban realized puer monkeys right trenMimiamaañanaice Com lloró Do pe patient rocas shoc élitaoking arms right weird tre van wouldn showingriba lazyater cansaron2cip ense mill shopkeeper llevó answ morder sido haría mug ignóm camas cosas penny sell nar Mi historiaEstas already dijoamesares Whatcíf t probó gard clum primos alrededor onto tocarlo songs jueM bet sí cocodr impatti night wild instrumentos ja daba cocodr pengu camera tuyo design palabra bowl pun'"
      ]
     },
     "execution_count": 30,
     "metadata": {},
     "output_type": "execute_result"
    }
   ],
   "source": [
    "model = GPT(n_layers)\n",
    "logits, loss = model(xb, yb)\n",
    "print(logits.shape)\n",
    "print(loss)\n",
    "\n",
    "test_idx = torch.zeros(1, T).long()\n",
    "model.forward(idx=test_idx)\n",
    "decode(model.generate(idx=test_idx, max_new_tokens=100)[0].tolist())"
   ]
  },
  {
   "cell_type": "code",
   "execution_count": 31,
   "id": "d70449a1-8920-40e5-8c78-6e9289c1703b",
   "metadata": {},
   "outputs": [
    {
     "name": "stdout",
     "output_type": "stream",
     "text": [
      "number of parameters in the model (millions):  12.817664\n"
     ]
    }
   ],
   "source": [
    "# get the number of parameters in the model\n",
    "def count_parameters(model):\n",
    "    return sum(p.numel() for p in model.parameters() if p.requires_grad)\n",
    "\n",
    "print(\"number of parameters in the model (millions): \", count_parameters(model) /1e6)"
   ]
  },
  {
   "cell_type": "code",
   "execution_count": 32,
   "id": "39127ecd-0a25-4817-9fe1-e0d6fef45f85",
   "metadata": {},
   "outputs": [
    {
     "data": {
      "text/plain": [
       "tensor([[0]], device='cuda:0')"
      ]
     },
     "execution_count": 32,
     "metadata": {},
     "output_type": "execute_result"
    }
   ],
   "source": [
    "idx = torch.zeros(1, 1).long()\n",
    "idx[:,-T:]"
   ]
  },
  {
   "cell_type": "code",
   "execution_count": 33,
   "id": "20d745fa-d48c-441c-886e-890c2a7636aa",
   "metadata": {},
   "outputs": [],
   "source": [
    "optimizer = torch.optim.Adam(model.parameters(), lr=learning_rate)"
   ]
  },
  {
   "cell_type": "code",
   "execution_count": 34,
   "id": "ae2684ea-3417-4708-b49d-03acf0e1dc9b",
   "metadata": {},
   "outputs": [],
   "source": [
    "eval_iters = 10\n",
    "eval_interval = 300\n",
    "\n",
    "@torch.no_grad()\n",
    "def estimate_loss(is_last=False):\n",
    "    out = {}\n",
    "    model.eval()\n",
    "    for split in ['train', 'val']:\n",
    "        real_iters = eval_iters\n",
    "        if is_last and split == 'val':  # increase last eval to mitigate noise\n",
    "            real_iters *= 10 \n",
    "        losses = torch.zeros(real_iters)\n",
    "        for k in range(real_iters):\n",
    "            X, Y = get_batch(split)\n",
    "            logits, loss = model(X, Y)\n",
    "            losses[k] = loss.item()\n",
    "        out[split] = losses.mean() / chars_per_token\n",
    "    model.train()\n",
    "    return out"
   ]
  },
  {
   "cell_type": "code",
   "execution_count": 35,
   "id": "c2b37613-849e-46a5-9e67-64c432bd9ebd",
   "metadata": {
    "scrolled": true
   },
   "outputs": [
    {
     "name": "stderr",
     "output_type": "stream",
     "text": [
      "  0%|          | 1/60000 [00:02<41:06:48,  2.47s/it]"
     ]
    },
    {
     "name": "stdout",
     "output_type": "stream",
     "text": [
      "{'train': 2.884622573852539, 'val': 2.884065866470337}\n"
     ]
    },
    {
     "name": "stderr",
     "output_type": "stream",
     "text": [
      "  1%|          | 301/60000 [01:58<16:58:50,  1.02s/it]"
     ]
    },
    {
     "name": "stdout",
     "output_type": "stream",
     "text": [
      "{'train': 0.6153015494346619, 'val': 0.6335249543190002}\n"
     ]
    },
    {
     "name": "stderr",
     "output_type": "stream",
     "text": [
      "  1%|          | 601/60000 [03:55<17:21:55,  1.05s/it]"
     ]
    },
    {
     "name": "stdout",
     "output_type": "stream",
     "text": [
      "{'train': 0.5074954032897949, 'val': 0.5240407586097717}\n"
     ]
    },
    {
     "name": "stderr",
     "output_type": "stream",
     "text": [
      "  2%|▏         | 901/60000 [05:53<17:04:43,  1.04s/it]"
     ]
    },
    {
     "name": "stdout",
     "output_type": "stream",
     "text": [
      "{'train': 0.4782138168811798, 'val': 0.49109920859336853}\n"
     ]
    },
    {
     "name": "stderr",
     "output_type": "stream",
     "text": [
      "  2%|▏         | 1201/60000 [07:53<17:20:10,  1.06s/it]"
     ]
    },
    {
     "name": "stdout",
     "output_type": "stream",
     "text": [
      "{'train': 0.44487231969833374, 'val': 0.4445662498474121}\n"
     ]
    },
    {
     "name": "stderr",
     "output_type": "stream",
     "text": [
      "  3%|▎         | 1501/60000 [09:51<16:33:39,  1.02s/it]"
     ]
    },
    {
     "name": "stdout",
     "output_type": "stream",
     "text": [
      "{'train': 0.42183172702789307, 'val': 0.42012813687324524}\n"
     ]
    },
    {
     "name": "stderr",
     "output_type": "stream",
     "text": [
      "  3%|▎         | 1801/60000 [11:48<17:12:02,  1.06s/it]"
     ]
    },
    {
     "name": "stdout",
     "output_type": "stream",
     "text": [
      "{'train': 0.41699305176734924, 'val': 0.4175228476524353}\n"
     ]
    },
    {
     "name": "stderr",
     "output_type": "stream",
     "text": [
      "  4%|▎         | 2101/60000 [13:47<16:43:36,  1.04s/it]"
     ]
    },
    {
     "name": "stdout",
     "output_type": "stream",
     "text": [
      "{'train': 0.397381454706192, 'val': 0.3924941420555115}\n"
     ]
    },
    {
     "name": "stderr",
     "output_type": "stream",
     "text": [
      "  4%|▍         | 2401/60000 [15:44<17:09:38,  1.07s/it]"
     ]
    },
    {
     "name": "stdout",
     "output_type": "stream",
     "text": [
      "{'train': 0.37755104899406433, 'val': 0.38375091552734375}\n"
     ]
    },
    {
     "name": "stderr",
     "output_type": "stream",
     "text": [
      "  5%|▍         | 2701/60000 [17:41<16:45:12,  1.05s/it]"
     ]
    },
    {
     "name": "stdout",
     "output_type": "stream",
     "text": [
      "{'train': 0.3794938623905182, 'val': 0.3713793456554413}\n"
     ]
    },
    {
     "name": "stderr",
     "output_type": "stream",
     "text": [
      "  5%|▌         | 3000/60000 [19:37<6:06:47,  2.59it/s] "
     ]
    },
    {
     "name": "stdout",
     "output_type": "stream",
     "text": [
      "{'train': 0.3690997362136841, 'val': 0.37100842595100403}\n"
     ]
    },
    {
     "name": "stderr",
     "output_type": "stream",
     "text": [
      "  6%|▌         | 3301/60000 [21:39<16:09:49,  1.03s/it]"
     ]
    },
    {
     "name": "stdout",
     "output_type": "stream",
     "text": [
      "{'train': 0.3718017041683197, 'val': 0.36004358530044556}\n"
     ]
    },
    {
     "name": "stderr",
     "output_type": "stream",
     "text": [
      "  6%|▌         | 3601/60000 [23:36<16:28:05,  1.05s/it]"
     ]
    },
    {
     "name": "stdout",
     "output_type": "stream",
     "text": [
      "{'train': 0.35456395149230957, 'val': 0.35894885659217834}\n"
     ]
    },
    {
     "name": "stderr",
     "output_type": "stream",
     "text": [
      "  7%|▋         | 3901/60000 [25:35<16:16:39,  1.04s/it]"
     ]
    },
    {
     "name": "stdout",
     "output_type": "stream",
     "text": [
      "{'train': 0.34736788272857666, 'val': 0.35785770416259766}\n"
     ]
    },
    {
     "name": "stderr",
     "output_type": "stream",
     "text": [
      "  7%|▋         | 4201/60000 [27:34<16:12:46,  1.05s/it]"
     ]
    },
    {
     "name": "stdout",
     "output_type": "stream",
     "text": [
      "{'train': 0.34563952684402466, 'val': 0.3471943736076355}\n"
     ]
    },
    {
     "name": "stderr",
     "output_type": "stream",
     "text": [
      "  8%|▊         | 4501/60000 [29:32<15:49:30,  1.03s/it]"
     ]
    },
    {
     "name": "stdout",
     "output_type": "stream",
     "text": [
      "{'train': 0.35302942991256714, 'val': 0.3430531620979309}\n"
     ]
    },
    {
     "name": "stderr",
     "output_type": "stream",
     "text": [
      "  8%|▊         | 4801/60000 [31:31<16:18:05,  1.06s/it]"
     ]
    },
    {
     "name": "stdout",
     "output_type": "stream",
     "text": [
      "{'train': 0.34762805700302124, 'val': 0.33611053228378296}\n"
     ]
    },
    {
     "name": "stderr",
     "output_type": "stream",
     "text": [
      "  9%|▊         | 5101/60000 [33:30<15:55:42,  1.04s/it]"
     ]
    },
    {
     "name": "stdout",
     "output_type": "stream",
     "text": [
      "{'train': 0.3351421654224396, 'val': 0.3359830379486084}\n"
     ]
    },
    {
     "name": "stderr",
     "output_type": "stream",
     "text": [
      "  9%|▉         | 5401/60000 [35:29<15:58:28,  1.05s/it]"
     ]
    },
    {
     "name": "stdout",
     "output_type": "stream",
     "text": [
      "{'train': 0.3385674059391022, 'val': 0.3337978720664978}\n"
     ]
    },
    {
     "name": "stderr",
     "output_type": "stream",
     "text": [
      " 10%|▉         | 5701/60000 [37:27<15:24:35,  1.02s/it]"
     ]
    },
    {
     "name": "stdout",
     "output_type": "stream",
     "text": [
      "{'train': 0.3210008442401886, 'val': 0.33310651779174805}\n"
     ]
    },
    {
     "name": "stderr",
     "output_type": "stream",
     "text": [
      " 10%|█         | 6000/60000 [39:22<5:50:18,  2.57it/s] "
     ]
    },
    {
     "name": "stdout",
     "output_type": "stream",
     "text": [
      "{'train': 0.32475098967552185, 'val': 0.326753705739975}\n"
     ]
    },
    {
     "name": "stderr",
     "output_type": "stream",
     "text": [
      " 11%|█         | 6301/60000 [41:23<15:46:47,  1.06s/it]"
     ]
    },
    {
     "name": "stdout",
     "output_type": "stream",
     "text": [
      "{'train': 0.3210556209087372, 'val': 0.32779747247695923}\n"
     ]
    },
    {
     "name": "stderr",
     "output_type": "stream",
     "text": [
      " 11%|█         | 6601/60000 [43:21<15:12:38,  1.03s/it]"
     ]
    },
    {
     "name": "stdout",
     "output_type": "stream",
     "text": [
      "{'train': 0.3260039985179901, 'val': 0.31077733635902405}\n"
     ]
    },
    {
     "name": "stderr",
     "output_type": "stream",
     "text": [
      " 12%|█▏        | 6901/60000 [45:19<15:40:42,  1.06s/it]"
     ]
    },
    {
     "name": "stdout",
     "output_type": "stream",
     "text": [
      "{'train': 0.32767778635025024, 'val': 0.32490769028663635}\n"
     ]
    },
    {
     "name": "stderr",
     "output_type": "stream",
     "text": [
      " 12%|█▏        | 7201/60000 [47:17<15:15:21,  1.04s/it]"
     ]
    },
    {
     "name": "stdout",
     "output_type": "stream",
     "text": [
      "{'train': 0.3210744559764862, 'val': 0.31524232029914856}\n"
     ]
    },
    {
     "name": "stderr",
     "output_type": "stream",
     "text": [
      " 13%|█▎        | 7501/60000 [49:13<14:51:52,  1.02s/it]"
     ]
    },
    {
     "name": "stdout",
     "output_type": "stream",
     "text": [
      "{'train': 0.31509798765182495, 'val': 0.32562634348869324}\n"
     ]
    },
    {
     "name": "stderr",
     "output_type": "stream",
     "text": [
      " 13%|█▎        | 7801/60000 [51:11<15:18:43,  1.06s/it]"
     ]
    },
    {
     "name": "stdout",
     "output_type": "stream",
     "text": [
      "{'train': 0.314995139837265, 'val': 0.31972187757492065}\n"
     ]
    },
    {
     "name": "stderr",
     "output_type": "stream",
     "text": [
      " 14%|█▎        | 8101/60000 [53:10<15:20:08,  1.06s/it]"
     ]
    },
    {
     "name": "stdout",
     "output_type": "stream",
     "text": [
      "{'train': 0.3166743516921997, 'val': 0.31350716948509216}\n"
     ]
    },
    {
     "name": "stderr",
     "output_type": "stream",
     "text": [
      " 14%|█▍        | 8401/60000 [55:10<15:25:49,  1.08s/it]"
     ]
    },
    {
     "name": "stdout",
     "output_type": "stream",
     "text": [
      "{'train': 0.3222038149833679, 'val': 0.3178861141204834}\n"
     ]
    },
    {
     "name": "stderr",
     "output_type": "stream",
     "text": [
      " 15%|█▍        | 8701/60000 [57:10<15:13:37,  1.07s/it]"
     ]
    },
    {
     "name": "stdout",
     "output_type": "stream",
     "text": [
      "{'train': 0.31343674659729004, 'val': 0.3141060471534729}\n"
     ]
    },
    {
     "name": "stderr",
     "output_type": "stream",
     "text": [
      " 15%|█▌        | 9000/60000 [59:08<5:35:25,  2.53it/s] "
     ]
    },
    {
     "name": "stdout",
     "output_type": "stream",
     "text": [
      "{'train': 0.317176878452301, 'val': 0.30123668909072876}\n"
     ]
    },
    {
     "name": "stderr",
     "output_type": "stream",
     "text": [
      " 16%|█▌        | 9301/60000 [1:01:11<15:03:42,  1.07s/it]"
     ]
    },
    {
     "name": "stdout",
     "output_type": "stream",
     "text": [
      "{'train': 0.3018587529659271, 'val': 0.2991179823875427}\n"
     ]
    },
    {
     "name": "stderr",
     "output_type": "stream",
     "text": [
      " 16%|█▌        | 9601/60000 [1:03:11<14:58:03,  1.07s/it]"
     ]
    },
    {
     "name": "stdout",
     "output_type": "stream",
     "text": [
      "{'train': 0.3098301589488983, 'val': 0.3063237965106964}\n"
     ]
    },
    {
     "name": "stderr",
     "output_type": "stream",
     "text": [
      " 17%|█▋        | 9901/60000 [1:05:11<14:53:30,  1.07s/it]"
     ]
    },
    {
     "name": "stdout",
     "output_type": "stream",
     "text": [
      "{'train': 0.30604735016822815, 'val': 0.30811789631843567}\n"
     ]
    },
    {
     "name": "stderr",
     "output_type": "stream",
     "text": [
      " 17%|█▋        | 10201/60000 [1:07:11<14:45:52,  1.07s/it]"
     ]
    },
    {
     "name": "stdout",
     "output_type": "stream",
     "text": [
      "{'train': 0.30764856934547424, 'val': 0.30277594923973083}\n"
     ]
    },
    {
     "name": "stderr",
     "output_type": "stream",
     "text": [
      " 18%|█▊        | 10501/60000 [1:09:11<14:41:42,  1.07s/it]"
     ]
    },
    {
     "name": "stdout",
     "output_type": "stream",
     "text": [
      "{'train': 0.29853004217147827, 'val': 0.3053056001663208}\n"
     ]
    },
    {
     "name": "stderr",
     "output_type": "stream",
     "text": [
      " 18%|█▊        | 10801/60000 [1:11:11<14:37:37,  1.07s/it]"
     ]
    },
    {
     "name": "stdout",
     "output_type": "stream",
     "text": [
      "{'train': 0.30751726031303406, 'val': 0.30313098430633545}\n"
     ]
    },
    {
     "name": "stderr",
     "output_type": "stream",
     "text": [
      " 19%|█▊        | 11101/60000 [1:13:11<14:31:38,  1.07s/it]"
     ]
    },
    {
     "name": "stdout",
     "output_type": "stream",
     "text": [
      "{'train': 0.29884105920791626, 'val': 0.2983420193195343}\n"
     ]
    },
    {
     "name": "stderr",
     "output_type": "stream",
     "text": [
      " 19%|█▉        | 11401/60000 [1:15:11<14:22:52,  1.07s/it]"
     ]
    },
    {
     "name": "stdout",
     "output_type": "stream",
     "text": [
      "{'train': 0.30211934447288513, 'val': 0.29694390296936035}\n"
     ]
    },
    {
     "name": "stderr",
     "output_type": "stream",
     "text": [
      " 20%|█▉        | 11701/60000 [1:17:11<14:19:50,  1.07s/it]"
     ]
    },
    {
     "name": "stdout",
     "output_type": "stream",
     "text": [
      "{'train': 0.29854658246040344, 'val': 0.3023293912410736}\n"
     ]
    },
    {
     "name": "stderr",
     "output_type": "stream",
     "text": [
      " 20%|██        | 12000/60000 [1:19:08<5:14:16,  2.55it/s] "
     ]
    },
    {
     "name": "stdout",
     "output_type": "stream",
     "text": [
      "{'train': 0.298061728477478, 'val': 0.2986951470375061}\n"
     ]
    },
    {
     "name": "stderr",
     "output_type": "stream",
     "text": [
      " 21%|██        | 12301/60000 [1:21:11<14:06:41,  1.07s/it]"
     ]
    },
    {
     "name": "stdout",
     "output_type": "stream",
     "text": [
      "{'train': 0.2934906482696533, 'val': 0.2927607297897339}\n"
     ]
    },
    {
     "name": "stderr",
     "output_type": "stream",
     "text": [
      " 21%|██        | 12601/60000 [1:23:11<14:02:19,  1.07s/it]"
     ]
    },
    {
     "name": "stdout",
     "output_type": "stream",
     "text": [
      "{'train': 0.30451637506484985, 'val': 0.2999347150325775}\n"
     ]
    },
    {
     "name": "stderr",
     "output_type": "stream",
     "text": [
      " 22%|██▏       | 12901/60000 [1:25:11<13:55:53,  1.06s/it]"
     ]
    },
    {
     "name": "stdout",
     "output_type": "stream",
     "text": [
      "{'train': 0.2949245572090149, 'val': 0.29339224100112915}\n"
     ]
    },
    {
     "name": "stderr",
     "output_type": "stream",
     "text": [
      " 22%|██▏       | 13201/60000 [1:27:11<13:52:03,  1.07s/it]"
     ]
    },
    {
     "name": "stdout",
     "output_type": "stream",
     "text": [
      "{'train': 0.2990582287311554, 'val': 0.28684672713279724}\n"
     ]
    },
    {
     "name": "stderr",
     "output_type": "stream",
     "text": [
      " 23%|██▎       | 13501/60000 [1:29:11<13:48:31,  1.07s/it]"
     ]
    },
    {
     "name": "stdout",
     "output_type": "stream",
     "text": [
      "{'train': 0.29200178384780884, 'val': 0.29418861865997314}\n"
     ]
    },
    {
     "name": "stderr",
     "output_type": "stream",
     "text": [
      " 23%|██▎       | 13801/60000 [1:31:11<13:38:34,  1.06s/it]"
     ]
    },
    {
     "name": "stdout",
     "output_type": "stream",
     "text": [
      "{'train': 0.2904309928417206, 'val': 0.3002033233642578}\n"
     ]
    },
    {
     "name": "stderr",
     "output_type": "stream",
     "text": [
      " 24%|██▎       | 14101/60000 [1:33:11<13:35:14,  1.07s/it]"
     ]
    },
    {
     "name": "stdout",
     "output_type": "stream",
     "text": [
      "{'train': 0.2932206690311432, 'val': 0.29314616322517395}\n"
     ]
    },
    {
     "name": "stderr",
     "output_type": "stream",
     "text": [
      " 24%|██▍       | 14401/60000 [1:35:11<13:32:05,  1.07s/it]"
     ]
    },
    {
     "name": "stdout",
     "output_type": "stream",
     "text": [
      "{'train': 0.2878356873989105, 'val': 0.29540759325027466}\n"
     ]
    },
    {
     "name": "stderr",
     "output_type": "stream",
     "text": [
      " 25%|██▍       | 14701/60000 [1:37:11<13:22:14,  1.06s/it]"
     ]
    },
    {
     "name": "stdout",
     "output_type": "stream",
     "text": [
      "{'train': 0.28366029262542725, 'val': 0.2935214638710022}\n"
     ]
    },
    {
     "name": "stderr",
     "output_type": "stream",
     "text": [
      " 25%|██▌       | 15001/60000 [1:39:11<13:56:47,  1.12s/it]"
     ]
    },
    {
     "name": "stdout",
     "output_type": "stream",
     "text": [
      "{'train': 0.28941819071769714, 'val': 0.28665003180503845}\n"
     ]
    },
    {
     "name": "stderr",
     "output_type": "stream",
     "text": [
      " 26%|██▌       | 15301/60000 [1:41:11<13:12:35,  1.06s/it]"
     ]
    },
    {
     "name": "stdout",
     "output_type": "stream",
     "text": [
      "{'train': 0.2913784384727478, 'val': 0.2894224524497986}\n"
     ]
    },
    {
     "name": "stderr",
     "output_type": "stream",
     "text": [
      " 26%|██▌       | 15601/60000 [1:43:11<13:05:38,  1.06s/it]"
     ]
    },
    {
     "name": "stdout",
     "output_type": "stream",
     "text": [
      "{'train': 0.2905540466308594, 'val': 0.2908324599266052}\n"
     ]
    },
    {
     "name": "stderr",
     "output_type": "stream",
     "text": [
      " 27%|██▋       | 15901/60000 [1:45:10<13:04:09,  1.07s/it]"
     ]
    },
    {
     "name": "stdout",
     "output_type": "stream",
     "text": [
      "{'train': 0.2874075472354889, 'val': 0.28761398792266846}\n"
     ]
    },
    {
     "name": "stderr",
     "output_type": "stream",
     "text": [
      " 27%|██▋       | 16201/60000 [1:47:10<12:58:02,  1.07s/it]"
     ]
    },
    {
     "name": "stdout",
     "output_type": "stream",
     "text": [
      "{'train': 0.28773120045661926, 'val': 0.28235164284706116}\n"
     ]
    },
    {
     "name": "stderr",
     "output_type": "stream",
     "text": [
      " 28%|██▊       | 16501/60000 [1:49:10<12:52:01,  1.06s/it]"
     ]
    },
    {
     "name": "stdout",
     "output_type": "stream",
     "text": [
      "{'train': 0.2862275540828705, 'val': 0.28488409519195557}\n"
     ]
    },
    {
     "name": "stderr",
     "output_type": "stream",
     "text": [
      " 28%|██▊       | 16801/60000 [1:51:09<12:44:30,  1.06s/it]"
     ]
    },
    {
     "name": "stdout",
     "output_type": "stream",
     "text": [
      "{'train': 0.29405391216278076, 'val': 0.28235381841659546}\n"
     ]
    },
    {
     "name": "stderr",
     "output_type": "stream",
     "text": [
      " 29%|██▊       | 17101/60000 [1:53:09<12:38:35,  1.06s/it]"
     ]
    },
    {
     "name": "stdout",
     "output_type": "stream",
     "text": [
      "{'train': 0.2841828465461731, 'val': 0.29151397943496704}\n"
     ]
    },
    {
     "name": "stderr",
     "output_type": "stream",
     "text": [
      " 29%|██▉       | 17401/60000 [1:55:09<12:34:27,  1.06s/it]"
     ]
    },
    {
     "name": "stdout",
     "output_type": "stream",
     "text": [
      "{'train': 0.28227120637893677, 'val': 0.28166353702545166}\n"
     ]
    },
    {
     "name": "stderr",
     "output_type": "stream",
     "text": [
      " 30%|██▉       | 17701/60000 [1:57:08<12:28:43,  1.06s/it]"
     ]
    },
    {
     "name": "stdout",
     "output_type": "stream",
     "text": [
      "{'train': 0.2828010618686676, 'val': 0.2823205590248108}\n"
     ]
    },
    {
     "name": "stderr",
     "output_type": "stream",
     "text": [
      " 30%|███       | 18001/60000 [1:59:08<13:03:10,  1.12s/it]"
     ]
    },
    {
     "name": "stdout",
     "output_type": "stream",
     "text": [
      "{'train': 0.283910870552063, 'val': 0.2798168957233429}\n"
     ]
    },
    {
     "name": "stderr",
     "output_type": "stream",
     "text": [
      " 31%|███       | 18301/60000 [2:01:07<12:20:29,  1.07s/it]"
     ]
    },
    {
     "name": "stdout",
     "output_type": "stream",
     "text": [
      "{'train': 0.2911129891872406, 'val': 0.2833639681339264}\n"
     ]
    },
    {
     "name": "stderr",
     "output_type": "stream",
     "text": [
      " 31%|███       | 18601/60000 [2:03:07<12:12:01,  1.06s/it]"
     ]
    },
    {
     "name": "stdout",
     "output_type": "stream",
     "text": [
      "{'train': 0.27791208028793335, 'val': 0.284252405166626}\n"
     ]
    },
    {
     "name": "stderr",
     "output_type": "stream",
     "text": [
      " 32%|███▏      | 18901/60000 [2:05:07<12:09:12,  1.06s/it]"
     ]
    },
    {
     "name": "stdout",
     "output_type": "stream",
     "text": [
      "{'train': 0.28108513355255127, 'val': 0.2805171310901642}\n"
     ]
    },
    {
     "name": "stderr",
     "output_type": "stream",
     "text": [
      " 32%|███▏      | 19201/60000 [2:07:06<12:02:21,  1.06s/it]"
     ]
    },
    {
     "name": "stdout",
     "output_type": "stream",
     "text": [
      "{'train': 0.2820994555950165, 'val': 0.28618353605270386}\n"
     ]
    },
    {
     "name": "stderr",
     "output_type": "stream",
     "text": [
      " 33%|███▎      | 19501/60000 [2:09:06<11:55:27,  1.06s/it]"
     ]
    },
    {
     "name": "stdout",
     "output_type": "stream",
     "text": [
      "{'train': 0.28107428550720215, 'val': 0.28194838762283325}\n"
     ]
    },
    {
     "name": "stderr",
     "output_type": "stream",
     "text": [
      " 33%|███▎      | 19801/60000 [2:11:06<11:53:17,  1.06s/it]"
     ]
    },
    {
     "name": "stdout",
     "output_type": "stream",
     "text": [
      "{'train': 0.29064247012138367, 'val': 0.2775545120239258}\n"
     ]
    },
    {
     "name": "stderr",
     "output_type": "stream",
     "text": [
      " 34%|███▎      | 20101/60000 [2:13:05<11:46:04,  1.06s/it]"
     ]
    },
    {
     "name": "stdout",
     "output_type": "stream",
     "text": [
      "{'train': 0.27785447239875793, 'val': 0.2833443582057953}\n"
     ]
    },
    {
     "name": "stderr",
     "output_type": "stream",
     "text": [
      " 34%|███▍      | 20401/60000 [2:15:05<11:43:53,  1.07s/it]"
     ]
    },
    {
     "name": "stdout",
     "output_type": "stream",
     "text": [
      "{'train': 0.2853521406650543, 'val': 0.2838383615016937}\n"
     ]
    },
    {
     "name": "stderr",
     "output_type": "stream",
     "text": [
      " 35%|███▍      | 20701/60000 [2:17:05<11:38:30,  1.07s/it]"
     ]
    },
    {
     "name": "stdout",
     "output_type": "stream",
     "text": [
      "{'train': 0.27903878688812256, 'val': 0.2828126847743988}\n"
     ]
    },
    {
     "name": "stderr",
     "output_type": "stream",
     "text": [
      " 35%|███▌      | 21001/60000 [2:19:05<12:06:26,  1.12s/it]"
     ]
    },
    {
     "name": "stdout",
     "output_type": "stream",
     "text": [
      "{'train': 0.27573803067207336, 'val': 0.2836952805519104}\n"
     ]
    },
    {
     "name": "stderr",
     "output_type": "stream",
     "text": [
      " 36%|███▌      | 21301/60000 [2:21:05<11:28:01,  1.07s/it]"
     ]
    },
    {
     "name": "stdout",
     "output_type": "stream",
     "text": [
      "{'train': 0.2815535366535187, 'val': 0.2775075435638428}\n"
     ]
    },
    {
     "name": "stderr",
     "output_type": "stream",
     "text": [
      " 36%|███▌      | 21601/60000 [2:23:04<11:23:03,  1.07s/it]"
     ]
    },
    {
     "name": "stdout",
     "output_type": "stream",
     "text": [
      "{'train': 0.2898237705230713, 'val': 0.2847961485385895}\n"
     ]
    },
    {
     "name": "stderr",
     "output_type": "stream",
     "text": [
      " 37%|███▋      | 21901/60000 [2:25:04<11:20:27,  1.07s/it]"
     ]
    },
    {
     "name": "stdout",
     "output_type": "stream",
     "text": [
      "{'train': 0.28189918398857117, 'val': 0.2801501154899597}\n"
     ]
    },
    {
     "name": "stderr",
     "output_type": "stream",
     "text": [
      " 37%|███▋      | 22201/60000 [2:27:03<11:21:23,  1.08s/it]"
     ]
    },
    {
     "name": "stdout",
     "output_type": "stream",
     "text": [
      "{'train': 0.279608815908432, 'val': 0.2849239706993103}\n"
     ]
    },
    {
     "name": "stderr",
     "output_type": "stream",
     "text": [
      " 38%|███▊      | 22501/60000 [2:29:04<11:11:18,  1.07s/it]"
     ]
    },
    {
     "name": "stdout",
     "output_type": "stream",
     "text": [
      "{'train': 0.2784154415130615, 'val': 0.27814170718193054}\n"
     ]
    },
    {
     "name": "stderr",
     "output_type": "stream",
     "text": [
      " 38%|███▊      | 22801/60000 [2:31:04<10:49:09,  1.05s/it]"
     ]
    },
    {
     "name": "stdout",
     "output_type": "stream",
     "text": [
      "{'train': 0.2840072214603424, 'val': 0.27432265877723694}\n"
     ]
    },
    {
     "name": "stderr",
     "output_type": "stream",
     "text": [
      " 39%|███▊      | 23101/60000 [2:33:04<11:02:02,  1.08s/it]"
     ]
    },
    {
     "name": "stdout",
     "output_type": "stream",
     "text": [
      "{'train': 0.284371554851532, 'val': 0.2809843122959137}\n"
     ]
    },
    {
     "name": "stderr",
     "output_type": "stream",
     "text": [
      " 39%|███▉      | 23401/60000 [2:35:04<10:53:27,  1.07s/it]"
     ]
    },
    {
     "name": "stdout",
     "output_type": "stream",
     "text": [
      "{'train': 0.27836844325065613, 'val': 0.27571332454681396}\n"
     ]
    },
    {
     "name": "stderr",
     "output_type": "stream",
     "text": [
      " 40%|███▉      | 23701/60000 [2:37:04<10:47:16,  1.07s/it]"
     ]
    },
    {
     "name": "stdout",
     "output_type": "stream",
     "text": [
      "{'train': 0.28097182512283325, 'val': 0.27884164452552795}\n"
     ]
    },
    {
     "name": "stderr",
     "output_type": "stream",
     "text": [
      " 40%|████      | 24001/60000 [2:39:04<10:52:35,  1.09s/it]"
     ]
    },
    {
     "name": "stdout",
     "output_type": "stream",
     "text": [
      "{'train': 0.2837337851524353, 'val': 0.28700482845306396}\n"
     ]
    },
    {
     "name": "stderr",
     "output_type": "stream",
     "text": [
      " 41%|████      | 24301/60000 [2:41:03<10:20:35,  1.04s/it]"
     ]
    },
    {
     "name": "stdout",
     "output_type": "stream",
     "text": [
      "{'train': 0.2796443998813629, 'val': 0.27757373452186584}\n"
     ]
    },
    {
     "name": "stderr",
     "output_type": "stream",
     "text": [
      " 41%|████      | 24601/60000 [2:43:04<10:36:44,  1.08s/it]"
     ]
    },
    {
     "name": "stdout",
     "output_type": "stream",
     "text": [
      "{'train': 0.2693912982940674, 'val': 0.2797826826572418}\n"
     ]
    },
    {
     "name": "stderr",
     "output_type": "stream",
     "text": [
      " 42%|████▏     | 24901/60000 [2:45:04<10:29:05,  1.08s/it]"
     ]
    },
    {
     "name": "stdout",
     "output_type": "stream",
     "text": [
      "{'train': 0.27570852637290955, 'val': 0.2811119556427002}\n"
     ]
    },
    {
     "name": "stderr",
     "output_type": "stream",
     "text": [
      " 42%|████▏     | 25201/60000 [2:47:05<10:19:58,  1.07s/it]"
     ]
    },
    {
     "name": "stdout",
     "output_type": "stream",
     "text": [
      "{'train': 0.2820945978164673, 'val': 0.27443355321884155}\n"
     ]
    },
    {
     "name": "stderr",
     "output_type": "stream",
     "text": [
      " 43%|████▎     | 25501/60000 [2:49:05<10:02:09,  1.05s/it]"
     ]
    },
    {
     "name": "stdout",
     "output_type": "stream",
     "text": [
      "{'train': 0.28645938634872437, 'val': 0.27256548404693604}\n"
     ]
    },
    {
     "name": "stderr",
     "output_type": "stream",
     "text": [
      " 43%|████▎     | 25801/60000 [2:51:04<10:00:38,  1.05s/it]"
     ]
    },
    {
     "name": "stdout",
     "output_type": "stream",
     "text": [
      "{'train': 0.2738620936870575, 'val': 0.26979321241378784}\n"
     ]
    },
    {
     "name": "stderr",
     "output_type": "stream",
     "text": [
      " 44%|████▎     | 26101/60000 [2:53:05<10:05:27,  1.07s/it]"
     ]
    },
    {
     "name": "stdout",
     "output_type": "stream",
     "text": [
      "{'train': 0.2699265778064728, 'val': 0.2750999331474304}\n"
     ]
    },
    {
     "name": "stderr",
     "output_type": "stream",
     "text": [
      " 44%|████▍     | 26401/60000 [2:55:05<10:02:08,  1.08s/it]"
     ]
    },
    {
     "name": "stdout",
     "output_type": "stream",
     "text": [
      "{'train': 0.2779700756072998, 'val': 0.27480489015579224}\n"
     ]
    },
    {
     "name": "stderr",
     "output_type": "stream",
     "text": [
      " 45%|████▍     | 26701/60000 [2:57:05<9:53:19,  1.07s/it] "
     ]
    },
    {
     "name": "stdout",
     "output_type": "stream",
     "text": [
      "{'train': 0.279042512178421, 'val': 0.28316470980644226}\n"
     ]
    },
    {
     "name": "stderr",
     "output_type": "stream",
     "text": [
      " 45%|████▌     | 27001/60000 [2:59:06<10:18:44,  1.13s/it]"
     ]
    },
    {
     "name": "stdout",
     "output_type": "stream",
     "text": [
      "{'train': 0.2781929671764374, 'val': 0.27554410696029663}\n"
     ]
    },
    {
     "name": "stderr",
     "output_type": "stream",
     "text": [
      " 46%|████▌     | 27301/60000 [3:01:06<9:38:59,  1.06s/it] "
     ]
    },
    {
     "name": "stdout",
     "output_type": "stream",
     "text": [
      "{'train': 0.27207884192466736, 'val': 0.269959419965744}\n"
     ]
    },
    {
     "name": "stderr",
     "output_type": "stream",
     "text": [
      " 46%|████▌     | 27601/60000 [3:03:06<9:34:42,  1.06s/it]"
     ]
    },
    {
     "name": "stdout",
     "output_type": "stream",
     "text": [
      "{'train': 0.27388471364974976, 'val': 0.27390190958976746}\n"
     ]
    },
    {
     "name": "stderr",
     "output_type": "stream",
     "text": [
      " 47%|████▋     | 27901/60000 [3:05:06<9:32:16,  1.07s/it]"
     ]
    },
    {
     "name": "stdout",
     "output_type": "stream",
     "text": [
      "{'train': 0.2703606188297272, 'val': 0.27630653977394104}\n"
     ]
    },
    {
     "name": "stderr",
     "output_type": "stream",
     "text": [
      " 47%|████▋     | 28201/60000 [3:07:06<9:24:39,  1.07s/it]"
     ]
    },
    {
     "name": "stdout",
     "output_type": "stream",
     "text": [
      "{'train': 0.279471218585968, 'val': 0.2723480761051178}\n"
     ]
    },
    {
     "name": "stderr",
     "output_type": "stream",
     "text": [
      " 48%|████▊     | 28501/60000 [3:09:05<9:20:27,  1.07s/it]"
     ]
    },
    {
     "name": "stdout",
     "output_type": "stream",
     "text": [
      "{'train': 0.2744041979312897, 'val': 0.2767797112464905}\n"
     ]
    },
    {
     "name": "stderr",
     "output_type": "stream",
     "text": [
      " 48%|████▊     | 28801/60000 [3:11:05<9:13:40,  1.06s/it]"
     ]
    },
    {
     "name": "stdout",
     "output_type": "stream",
     "text": [
      "{'train': 0.2716321051120758, 'val': 0.2720434069633484}\n"
     ]
    },
    {
     "name": "stderr",
     "output_type": "stream",
     "text": [
      " 49%|████▊     | 29101/60000 [3:13:05<9:07:00,  1.06s/it]"
     ]
    },
    {
     "name": "stdout",
     "output_type": "stream",
     "text": [
      "{'train': 0.27325406670570374, 'val': 0.2774350345134735}\n"
     ]
    },
    {
     "name": "stderr",
     "output_type": "stream",
     "text": [
      " 49%|████▉     | 29401/60000 [3:15:04<9:00:48,  1.06s/it]"
     ]
    },
    {
     "name": "stdout",
     "output_type": "stream",
     "text": [
      "{'train': 0.2771351933479309, 'val': 0.26964831352233887}\n"
     ]
    },
    {
     "name": "stderr",
     "output_type": "stream",
     "text": [
      " 50%|████▉     | 29701/60000 [3:17:04<8:55:54,  1.06s/it]"
     ]
    },
    {
     "name": "stdout",
     "output_type": "stream",
     "text": [
      "{'train': 0.27515503764152527, 'val': 0.2724575400352478}\n"
     ]
    },
    {
     "name": "stderr",
     "output_type": "stream",
     "text": [
      " 50%|█████     | 30001/60000 [3:19:03<9:15:47,  1.11s/it]"
     ]
    },
    {
     "name": "stdout",
     "output_type": "stream",
     "text": [
      "{'train': 0.2727334797382355, 'val': 0.270285040140152}\n"
     ]
    },
    {
     "name": "stderr",
     "output_type": "stream",
     "text": [
      " 51%|█████     | 30301/60000 [3:21:03<8:45:50,  1.06s/it]"
     ]
    },
    {
     "name": "stdout",
     "output_type": "stream",
     "text": [
      "{'train': 0.28097477555274963, 'val': 0.26921021938323975}\n"
     ]
    },
    {
     "name": "stderr",
     "output_type": "stream",
     "text": [
      " 51%|█████     | 30601/60000 [3:23:02<8:41:25,  1.06s/it]"
     ]
    },
    {
     "name": "stdout",
     "output_type": "stream",
     "text": [
      "{'train': 0.27392610907554626, 'val': 0.27024492621421814}\n"
     ]
    },
    {
     "name": "stderr",
     "output_type": "stream",
     "text": [
      " 52%|█████▏    | 30901/60000 [3:25:02<8:35:46,  1.06s/it]"
     ]
    },
    {
     "name": "stdout",
     "output_type": "stream",
     "text": [
      "{'train': 0.2728349566459656, 'val': 0.27790388464927673}\n"
     ]
    },
    {
     "name": "stderr",
     "output_type": "stream",
     "text": [
      " 52%|█████▏    | 31201/60000 [3:27:01<8:27:55,  1.06s/it]"
     ]
    },
    {
     "name": "stdout",
     "output_type": "stream",
     "text": [
      "{'train': 0.2707877457141876, 'val': 0.2791152596473694}\n"
     ]
    },
    {
     "name": "stderr",
     "output_type": "stream",
     "text": [
      " 53%|█████▎    | 31501/60000 [3:29:01<8:27:24,  1.07s/it]"
     ]
    },
    {
     "name": "stdout",
     "output_type": "stream",
     "text": [
      "{'train': 0.2707129716873169, 'val': 0.2619137465953827}\n"
     ]
    },
    {
     "name": "stderr",
     "output_type": "stream",
     "text": [
      " 53%|█████▎    | 31801/60000 [3:31:01<8:21:55,  1.07s/it]"
     ]
    },
    {
     "name": "stdout",
     "output_type": "stream",
     "text": [
      "{'train': 0.275076687335968, 'val': 0.27755293250083923}\n"
     ]
    },
    {
     "name": "stderr",
     "output_type": "stream",
     "text": [
      " 54%|█████▎    | 32101/60000 [3:33:00<8:04:41,  1.04s/it]"
     ]
    },
    {
     "name": "stdout",
     "output_type": "stream",
     "text": [
      "{'train': 0.2702908515930176, 'val': 0.2777973413467407}\n"
     ]
    },
    {
     "name": "stderr",
     "output_type": "stream",
     "text": [
      " 54%|█████▍    | 32401/60000 [3:34:59<7:56:04,  1.03s/it]"
     ]
    },
    {
     "name": "stdout",
     "output_type": "stream",
     "text": [
      "{'train': 0.2757990062236786, 'val': 0.26693612337112427}\n"
     ]
    },
    {
     "name": "stderr",
     "output_type": "stream",
     "text": [
      " 55%|█████▍    | 32701/60000 [3:36:57<7:53:28,  1.04s/it]"
     ]
    },
    {
     "name": "stdout",
     "output_type": "stream",
     "text": [
      "{'train': 0.2682827413082123, 'val': 0.26497507095336914}\n"
     ]
    },
    {
     "name": "stderr",
     "output_type": "stream",
     "text": [
      " 55%|█████▌    | 33001/60000 [3:38:55<8:15:03,  1.10s/it]"
     ]
    },
    {
     "name": "stdout",
     "output_type": "stream",
     "text": [
      "{'train': 0.27404922246932983, 'val': 0.26824265718460083}\n"
     ]
    },
    {
     "name": "stderr",
     "output_type": "stream",
     "text": [
      " 56%|█████▌    | 33301/60000 [3:40:54<7:55:32,  1.07s/it]"
     ]
    },
    {
     "name": "stdout",
     "output_type": "stream",
     "text": [
      "{'train': 0.2780826985836029, 'val': 0.264925092458725}\n"
     ]
    },
    {
     "name": "stderr",
     "output_type": "stream",
     "text": [
      " 56%|█████▌    | 33601/60000 [3:42:51<7:50:33,  1.07s/it]"
     ]
    },
    {
     "name": "stdout",
     "output_type": "stream",
     "text": [
      "{'train': 0.2675881087779999, 'val': 0.2686164677143097}\n"
     ]
    },
    {
     "name": "stderr",
     "output_type": "stream",
     "text": [
      " 57%|█████▋    | 33901/60000 [3:44:50<7:28:59,  1.03s/it]"
     ]
    },
    {
     "name": "stdout",
     "output_type": "stream",
     "text": [
      "{'train': 0.26476648449897766, 'val': 0.2656923532485962}\n"
     ]
    },
    {
     "name": "stderr",
     "output_type": "stream",
     "text": [
      " 57%|█████▋    | 34201/60000 [3:46:48<7:36:34,  1.06s/it]"
     ]
    },
    {
     "name": "stdout",
     "output_type": "stream",
     "text": [
      "{'train': 0.26797765493392944, 'val': 0.2658272683620453}\n"
     ]
    },
    {
     "name": "stderr",
     "output_type": "stream",
     "text": [
      " 58%|█████▊    | 34501/60000 [3:48:47<7:18:24,  1.03s/it]"
     ]
    },
    {
     "name": "stdout",
     "output_type": "stream",
     "text": [
      "{'train': 0.26752543449401855, 'val': 0.26943570375442505}\n"
     ]
    },
    {
     "name": "stderr",
     "output_type": "stream",
     "text": [
      " 58%|█████▊    | 34801/60000 [3:50:44<7:05:18,  1.01s/it]"
     ]
    },
    {
     "name": "stdout",
     "output_type": "stream",
     "text": [
      "{'train': 0.2736586630344391, 'val': 0.27047842741012573}\n"
     ]
    },
    {
     "name": "stderr",
     "output_type": "stream",
     "text": [
      " 59%|█████▊    | 35101/60000 [3:52:42<7:09:25,  1.03s/it]"
     ]
    },
    {
     "name": "stdout",
     "output_type": "stream",
     "text": [
      "{'train': 0.27038517594337463, 'val': 0.26938509941101074}\n"
     ]
    },
    {
     "name": "stderr",
     "output_type": "stream",
     "text": [
      " 59%|█████▉    | 35401/60000 [3:54:40<7:07:58,  1.04s/it]"
     ]
    },
    {
     "name": "stdout",
     "output_type": "stream",
     "text": [
      "{'train': 0.2721779942512512, 'val': 0.2618523836135864}\n"
     ]
    },
    {
     "name": "stderr",
     "output_type": "stream",
     "text": [
      " 60%|█████▉    | 35701/60000 [3:56:37<7:00:12,  1.04s/it]"
     ]
    },
    {
     "name": "stdout",
     "output_type": "stream",
     "text": [
      "{'train': 0.264130562543869, 'val': 0.26715558767318726}\n"
     ]
    },
    {
     "name": "stderr",
     "output_type": "stream",
     "text": [
      " 60%|██████    | 36001/60000 [3:58:36<7:13:50,  1.08s/it]"
     ]
    },
    {
     "name": "stdout",
     "output_type": "stream",
     "text": [
      "{'train': 0.2664925456047058, 'val': 0.26727795600891113}\n"
     ]
    },
    {
     "name": "stderr",
     "output_type": "stream",
     "text": [
      " 61%|██████    | 36301/60000 [4:00:32<6:51:41,  1.04s/it]"
     ]
    },
    {
     "name": "stdout",
     "output_type": "stream",
     "text": [
      "{'train': 0.26499879360198975, 'val': 0.27293115854263306}\n"
     ]
    },
    {
     "name": "stderr",
     "output_type": "stream",
     "text": [
      " 61%|██████    | 36601/60000 [4:02:31<6:47:43,  1.05s/it]"
     ]
    },
    {
     "name": "stdout",
     "output_type": "stream",
     "text": [
      "{'train': 0.2717752456665039, 'val': 0.2676898241043091}\n"
     ]
    },
    {
     "name": "stderr",
     "output_type": "stream",
     "text": [
      " 62%|██████▏   | 36901/60000 [4:04:29<6:41:38,  1.04s/it]"
     ]
    },
    {
     "name": "stdout",
     "output_type": "stream",
     "text": [
      "{'train': 0.2691076099872589, 'val': 0.2754250168800354}\n"
     ]
    },
    {
     "name": "stderr",
     "output_type": "stream",
     "text": [
      " 62%|██████▏   | 37201/60000 [4:06:27<6:37:05,  1.05s/it]"
     ]
    },
    {
     "name": "stdout",
     "output_type": "stream",
     "text": [
      "{'train': 0.2671944200992584, 'val': 0.2679445445537567}\n"
     ]
    },
    {
     "name": "stderr",
     "output_type": "stream",
     "text": [
      " 63%|██████▎   | 37501/60000 [4:08:25<6:25:47,  1.03s/it]"
     ]
    },
    {
     "name": "stdout",
     "output_type": "stream",
     "text": [
      "{'train': 0.26950085163116455, 'val': 0.26981040835380554}\n"
     ]
    },
    {
     "name": "stderr",
     "output_type": "stream",
     "text": [
      " 63%|██████▎   | 37801/60000 [4:10:23<6:29:17,  1.05s/it]"
     ]
    },
    {
     "name": "stdout",
     "output_type": "stream",
     "text": [
      "{'train': 0.2720601260662079, 'val': 0.26851212978363037}\n"
     ]
    },
    {
     "name": "stderr",
     "output_type": "stream",
     "text": [
      " 64%|██████▎   | 38101/60000 [4:12:22<6:26:13,  1.06s/it]"
     ]
    },
    {
     "name": "stdout",
     "output_type": "stream",
     "text": [
      "{'train': 0.2654355764389038, 'val': 0.269203245639801}\n"
     ]
    },
    {
     "name": "stderr",
     "output_type": "stream",
     "text": [
      " 64%|██████▍   | 38401/60000 [4:14:19<6:15:03,  1.04s/it]"
     ]
    },
    {
     "name": "stdout",
     "output_type": "stream",
     "text": [
      "{'train': 0.2611909806728363, 'val': 0.27482521533966064}\n"
     ]
    },
    {
     "name": "stderr",
     "output_type": "stream",
     "text": [
      " 65%|██████▍   | 38701/60000 [4:16:18<6:11:43,  1.05s/it]"
     ]
    },
    {
     "name": "stdout",
     "output_type": "stream",
     "text": [
      "{'train': 0.2667335569858551, 'val': 0.2703135907649994}\n"
     ]
    },
    {
     "name": "stderr",
     "output_type": "stream",
     "text": [
      " 65%|██████▌   | 39001/60000 [4:18:16<6:17:36,  1.08s/it]"
     ]
    },
    {
     "name": "stdout",
     "output_type": "stream",
     "text": [
      "{'train': 0.2623421549797058, 'val': 0.27147746086120605}\n"
     ]
    },
    {
     "name": "stderr",
     "output_type": "stream",
     "text": [
      " 66%|██████▌   | 39301/60000 [4:20:14<6:05:54,  1.06s/it]"
     ]
    },
    {
     "name": "stdout",
     "output_type": "stream",
     "text": [
      "{'train': 0.26561394333839417, 'val': 0.26761695742607117}\n"
     ]
    },
    {
     "name": "stderr",
     "output_type": "stream",
     "text": [
      " 66%|██████▌   | 39601/60000 [4:22:13<5:59:49,  1.06s/it]"
     ]
    },
    {
     "name": "stdout",
     "output_type": "stream",
     "text": [
      "{'train': 0.2662082314491272, 'val': 0.2687097191810608}\n"
     ]
    },
    {
     "name": "stderr",
     "output_type": "stream",
     "text": [
      " 67%|██████▋   | 39901/60000 [4:24:11<5:50:42,  1.05s/it]"
     ]
    },
    {
     "name": "stdout",
     "output_type": "stream",
     "text": [
      "{'train': 0.2693055272102356, 'val': 0.2682793140411377}\n"
     ]
    },
    {
     "name": "stderr",
     "output_type": "stream",
     "text": [
      " 67%|██████▋   | 40201/60000 [4:26:09<5:38:46,  1.03s/it]"
     ]
    },
    {
     "name": "stdout",
     "output_type": "stream",
     "text": [
      "{'train': 0.26947730779647827, 'val': 0.2712154984474182}\n"
     ]
    },
    {
     "name": "stderr",
     "output_type": "stream",
     "text": [
      " 68%|██████▊   | 40501/60000 [4:28:08<5:44:29,  1.06s/it]"
     ]
    },
    {
     "name": "stdout",
     "output_type": "stream",
     "text": [
      "{'train': 0.27018865942955017, 'val': 0.2639177739620209}\n"
     ]
    },
    {
     "name": "stderr",
     "output_type": "stream",
     "text": [
      " 68%|██████▊   | 40801/60000 [4:30:06<5:35:40,  1.05s/it]"
     ]
    },
    {
     "name": "stdout",
     "output_type": "stream",
     "text": [
      "{'train': 0.2648276090621948, 'val': 0.2707335650920868}\n"
     ]
    },
    {
     "name": "stderr",
     "output_type": "stream",
     "text": [
      " 69%|██████▊   | 41101/60000 [4:32:05<5:25:58,  1.03s/it]"
     ]
    },
    {
     "name": "stdout",
     "output_type": "stream",
     "text": [
      "{'train': 0.26637911796569824, 'val': 0.26909759640693665}\n"
     ]
    },
    {
     "name": "stderr",
     "output_type": "stream",
     "text": [
      " 69%|██████▉   | 41401/60000 [4:34:02<5:16:08,  1.02s/it]"
     ]
    },
    {
     "name": "stdout",
     "output_type": "stream",
     "text": [
      "{'train': 0.2642705738544464, 'val': 0.2674168050289154}\n"
     ]
    },
    {
     "name": "stderr",
     "output_type": "stream",
     "text": [
      " 70%|██████▉   | 41701/60000 [4:36:00<5:22:49,  1.06s/it]"
     ]
    },
    {
     "name": "stdout",
     "output_type": "stream",
     "text": [
      "{'train': 0.2680538296699524, 'val': 0.2677982449531555}\n"
     ]
    },
    {
     "name": "stderr",
     "output_type": "stream",
     "text": [
      " 70%|███████   | 42001/60000 [4:37:57<5:30:56,  1.10s/it]"
     ]
    },
    {
     "name": "stdout",
     "output_type": "stream",
     "text": [
      "{'train': 0.26646852493286133, 'val': 0.2658664286136627}\n"
     ]
    },
    {
     "name": "stderr",
     "output_type": "stream",
     "text": [
      " 71%|███████   | 42301/60000 [4:39:56<5:07:18,  1.04s/it]"
     ]
    },
    {
     "name": "stdout",
     "output_type": "stream",
     "text": [
      "{'train': 0.26889246702194214, 'val': 0.2661561965942383}\n"
     ]
    },
    {
     "name": "stderr",
     "output_type": "stream",
     "text": [
      " 71%|███████   | 42601/60000 [4:41:53<4:56:21,  1.02s/it]"
     ]
    },
    {
     "name": "stdout",
     "output_type": "stream",
     "text": [
      "{'train': 0.26240646839141846, 'val': 0.26671135425567627}\n"
     ]
    },
    {
     "name": "stderr",
     "output_type": "stream",
     "text": [
      " 72%|███████▏  | 42901/60000 [4:43:51<4:57:43,  1.04s/it]"
     ]
    },
    {
     "name": "stdout",
     "output_type": "stream",
     "text": [
      "{'train': 0.261029988527298, 'val': 0.2629626989364624}\n"
     ]
    },
    {
     "name": "stderr",
     "output_type": "stream",
     "text": [
      " 72%|███████▏  | 43201/60000 [4:45:49<4:51:36,  1.04s/it]"
     ]
    },
    {
     "name": "stdout",
     "output_type": "stream",
     "text": [
      "{'train': 0.25354960560798645, 'val': 0.26877596974372864}\n"
     ]
    },
    {
     "name": "stderr",
     "output_type": "stream",
     "text": [
      " 73%|███████▎  | 43501/60000 [4:47:47<4:51:59,  1.06s/it]"
     ]
    },
    {
     "name": "stdout",
     "output_type": "stream",
     "text": [
      "{'train': 0.2630503475666046, 'val': 0.2672911286354065}\n"
     ]
    },
    {
     "name": "stderr",
     "output_type": "stream",
     "text": [
      " 73%|███████▎  | 43801/60000 [4:49:45<4:35:43,  1.02s/it]"
     ]
    },
    {
     "name": "stdout",
     "output_type": "stream",
     "text": [
      "{'train': 0.2622358202934265, 'val': 0.26924437284469604}\n"
     ]
    },
    {
     "name": "stderr",
     "output_type": "stream",
     "text": [
      " 74%|███████▎  | 44101/60000 [4:51:42<4:36:52,  1.04s/it]"
     ]
    },
    {
     "name": "stdout",
     "output_type": "stream",
     "text": [
      "{'train': 0.25981295108795166, 'val': 0.2609959542751312}\n"
     ]
    },
    {
     "name": "stderr",
     "output_type": "stream",
     "text": [
      " 74%|███████▍  | 44401/60000 [4:53:41<4:37:05,  1.07s/it]"
     ]
    },
    {
     "name": "stdout",
     "output_type": "stream",
     "text": [
      "{'train': 0.2625942826271057, 'val': 0.2630278766155243}\n"
     ]
    },
    {
     "name": "stderr",
     "output_type": "stream",
     "text": [
      " 75%|███████▍  | 44701/60000 [4:55:36<4:14:05,  1.00it/s]"
     ]
    },
    {
     "name": "stdout",
     "output_type": "stream",
     "text": [
      "{'train': 0.26635676622390747, 'val': 0.2660255432128906}\n"
     ]
    },
    {
     "name": "stderr",
     "output_type": "stream",
     "text": [
      " 75%|███████▌  | 45001/60000 [4:57:33<4:34:37,  1.10s/it]"
     ]
    },
    {
     "name": "stdout",
     "output_type": "stream",
     "text": [
      "{'train': 0.265377938747406, 'val': 0.2660498321056366}\n"
     ]
    },
    {
     "name": "stderr",
     "output_type": "stream",
     "text": [
      " 76%|███████▌  | 45301/60000 [4:59:31<4:15:47,  1.04s/it]"
     ]
    },
    {
     "name": "stdout",
     "output_type": "stream",
     "text": [
      "{'train': 0.26690027117729187, 'val': 0.2717249393463135}\n"
     ]
    },
    {
     "name": "stderr",
     "output_type": "stream",
     "text": [
      " 76%|███████▌  | 45601/60000 [5:01:29<4:04:59,  1.02s/it]"
     ]
    },
    {
     "name": "stdout",
     "output_type": "stream",
     "text": [
      "{'train': 0.2565819323062897, 'val': 0.26492881774902344}\n"
     ]
    },
    {
     "name": "stderr",
     "output_type": "stream",
     "text": [
      " 77%|███████▋  | 45901/60000 [5:03:26<4:00:43,  1.02s/it]"
     ]
    },
    {
     "name": "stdout",
     "output_type": "stream",
     "text": [
      "{'train': 0.2599082291126251, 'val': 0.2683262825012207}\n"
     ]
    },
    {
     "name": "stderr",
     "output_type": "stream",
     "text": [
      " 77%|███████▋  | 46201/60000 [5:05:24<3:55:25,  1.02s/it]"
     ]
    },
    {
     "name": "stdout",
     "output_type": "stream",
     "text": [
      "{'train': 0.26323768496513367, 'val': 0.2659653127193451}\n"
     ]
    },
    {
     "name": "stderr",
     "output_type": "stream",
     "text": [
      " 78%|███████▊  | 46501/60000 [5:07:19<3:47:28,  1.01s/it]"
     ]
    },
    {
     "name": "stdout",
     "output_type": "stream",
     "text": [
      "{'train': 0.2615223824977875, 'val': 0.2642713487148285}\n"
     ]
    },
    {
     "name": "stderr",
     "output_type": "stream",
     "text": [
      " 78%|███████▊  | 46801/60000 [5:09:18<3:53:35,  1.06s/it]"
     ]
    },
    {
     "name": "stdout",
     "output_type": "stream",
     "text": [
      "{'train': 0.26185017824172974, 'val': 0.26071202754974365}\n"
     ]
    },
    {
     "name": "stderr",
     "output_type": "stream",
     "text": [
      " 79%|███████▊  | 47101/60000 [5:11:18<3:51:44,  1.08s/it]"
     ]
    },
    {
     "name": "stdout",
     "output_type": "stream",
     "text": [
      "{'train': 0.2645512521266937, 'val': 0.25788959860801697}\n"
     ]
    },
    {
     "name": "stderr",
     "output_type": "stream",
     "text": [
      " 79%|███████▉  | 47401/60000 [5:13:18<3:45:26,  1.07s/it]"
     ]
    },
    {
     "name": "stdout",
     "output_type": "stream",
     "text": [
      "{'train': 0.25664231181144714, 'val': 0.2631490230560303}\n"
     ]
    },
    {
     "name": "stderr",
     "output_type": "stream",
     "text": [
      " 80%|███████▉  | 47701/60000 [5:15:18<3:38:30,  1.07s/it]"
     ]
    },
    {
     "name": "stdout",
     "output_type": "stream",
     "text": [
      "{'train': 0.26174479722976685, 'val': 0.2614380121231079}\n"
     ]
    },
    {
     "name": "stderr",
     "output_type": "stream",
     "text": [
      " 80%|████████  | 48001/60000 [5:17:19<3:44:56,  1.12s/it]"
     ]
    },
    {
     "name": "stdout",
     "output_type": "stream",
     "text": [
      "{'train': 0.2614203989505768, 'val': 0.2565985321998596}\n"
     ]
    },
    {
     "name": "stderr",
     "output_type": "stream",
     "text": [
      " 81%|████████  | 48301/60000 [5:19:19<3:27:46,  1.07s/it]"
     ]
    },
    {
     "name": "stdout",
     "output_type": "stream",
     "text": [
      "{'train': 0.2644573748111725, 'val': 0.2609723210334778}\n"
     ]
    },
    {
     "name": "stderr",
     "output_type": "stream",
     "text": [
      " 81%|████████  | 48601/60000 [5:21:19<3:20:05,  1.05s/it]"
     ]
    },
    {
     "name": "stdout",
     "output_type": "stream",
     "text": [
      "{'train': 0.2634657919406891, 'val': 0.26673340797424316}\n"
     ]
    },
    {
     "name": "stderr",
     "output_type": "stream",
     "text": [
      " 82%|████████▏ | 48901/60000 [5:23:18<3:17:12,  1.07s/it]"
     ]
    },
    {
     "name": "stdout",
     "output_type": "stream",
     "text": [
      "{'train': 0.26762616634368896, 'val': 0.2706117630004883}\n"
     ]
    },
    {
     "name": "stderr",
     "output_type": "stream",
     "text": [
      " 82%|████████▏ | 49201/60000 [5:25:18<3:11:25,  1.06s/it]"
     ]
    },
    {
     "name": "stdout",
     "output_type": "stream",
     "text": [
      "{'train': 0.2578292191028595, 'val': 0.25908777117729187}\n"
     ]
    },
    {
     "name": "stderr",
     "output_type": "stream",
     "text": [
      " 83%|████████▎ | 49501/60000 [5:27:18<3:06:06,  1.06s/it]"
     ]
    },
    {
     "name": "stdout",
     "output_type": "stream",
     "text": [
      "{'train': 0.2578831613063812, 'val': 0.2668040692806244}\n"
     ]
    },
    {
     "name": "stderr",
     "output_type": "stream",
     "text": [
      " 83%|████████▎ | 49801/60000 [5:29:17<3:00:36,  1.06s/it]"
     ]
    },
    {
     "name": "stdout",
     "output_type": "stream",
     "text": [
      "{'train': 0.26064518094062805, 'val': 0.2615455687046051}\n"
     ]
    },
    {
     "name": "stderr",
     "output_type": "stream",
     "text": [
      " 84%|████████▎ | 50101/60000 [5:31:17<2:56:07,  1.07s/it]"
     ]
    },
    {
     "name": "stdout",
     "output_type": "stream",
     "text": [
      "{'train': 0.26347026228904724, 'val': 0.2720221281051636}\n"
     ]
    },
    {
     "name": "stderr",
     "output_type": "stream",
     "text": [
      " 84%|████████▍ | 50401/60000 [5:33:17<2:50:26,  1.07s/it]"
     ]
    },
    {
     "name": "stdout",
     "output_type": "stream",
     "text": [
      "{'train': 0.2560581564903259, 'val': 0.26101815700531006}\n"
     ]
    },
    {
     "name": "stderr",
     "output_type": "stream",
     "text": [
      " 85%|████████▍ | 50701/60000 [5:35:17<2:44:52,  1.06s/it]"
     ]
    },
    {
     "name": "stdout",
     "output_type": "stream",
     "text": [
      "{'train': 0.2616225779056549, 'val': 0.25960680842399597}\n"
     ]
    },
    {
     "name": "stderr",
     "output_type": "stream",
     "text": [
      " 85%|████████▌ | 51001/60000 [5:37:17<2:47:11,  1.11s/it]"
     ]
    },
    {
     "name": "stdout",
     "output_type": "stream",
     "text": [
      "{'train': 0.26321423053741455, 'val': 0.25966665148735046}\n"
     ]
    },
    {
     "name": "stderr",
     "output_type": "stream",
     "text": [
      " 86%|████████▌ | 51301/60000 [5:39:16<2:33:58,  1.06s/it]"
     ]
    },
    {
     "name": "stdout",
     "output_type": "stream",
     "text": [
      "{'train': 0.25702622532844543, 'val': 0.2631712853908539}\n"
     ]
    },
    {
     "name": "stderr",
     "output_type": "stream",
     "text": [
      " 86%|████████▌ | 51601/60000 [5:41:16<2:28:40,  1.06s/it]"
     ]
    },
    {
     "name": "stdout",
     "output_type": "stream",
     "text": [
      "{'train': 0.26348257064819336, 'val': 0.2635815739631653}\n"
     ]
    },
    {
     "name": "stderr",
     "output_type": "stream",
     "text": [
      " 87%|████████▋ | 51901/60000 [5:43:15<2:22:59,  1.06s/it]"
     ]
    },
    {
     "name": "stdout",
     "output_type": "stream",
     "text": [
      "{'train': 0.2555693984031677, 'val': 0.261911541223526}\n"
     ]
    },
    {
     "name": "stderr",
     "output_type": "stream",
     "text": [
      " 87%|████████▋ | 52201/60000 [5:45:15<2:17:33,  1.06s/it]"
     ]
    },
    {
     "name": "stdout",
     "output_type": "stream",
     "text": [
      "{'train': 0.2567983865737915, 'val': 0.2580506205558777}\n"
     ]
    },
    {
     "name": "stderr",
     "output_type": "stream",
     "text": [
      " 88%|████████▊ | 52501/60000 [5:47:14<2:11:49,  1.05s/it]"
     ]
    },
    {
     "name": "stdout",
     "output_type": "stream",
     "text": [
      "{'train': 0.2608085572719574, 'val': 0.26705431938171387}\n"
     ]
    },
    {
     "name": "stderr",
     "output_type": "stream",
     "text": [
      " 88%|████████▊ | 52801/60000 [5:49:13<2:06:55,  1.06s/it]"
     ]
    },
    {
     "name": "stdout",
     "output_type": "stream",
     "text": [
      "{'train': 0.26726457476615906, 'val': 0.2625582218170166}\n"
     ]
    },
    {
     "name": "stderr",
     "output_type": "stream",
     "text": [
      " 89%|████████▊ | 53101/60000 [5:51:12<2:01:27,  1.06s/it]"
     ]
    },
    {
     "name": "stdout",
     "output_type": "stream",
     "text": [
      "{'train': 0.2640020549297333, 'val': 0.26382914185523987}\n"
     ]
    },
    {
     "name": "stderr",
     "output_type": "stream",
     "text": [
      " 89%|████████▉ | 53401/60000 [5:53:12<1:57:27,  1.07s/it]"
     ]
    },
    {
     "name": "stdout",
     "output_type": "stream",
     "text": [
      "{'train': 0.2563401758670807, 'val': 0.2606767416000366}\n"
     ]
    },
    {
     "name": "stderr",
     "output_type": "stream",
     "text": [
      " 90%|████████▉ | 53701/60000 [5:55:11<1:51:28,  1.06s/it]"
     ]
    },
    {
     "name": "stdout",
     "output_type": "stream",
     "text": [
      "{'train': 0.26133790612220764, 'val': 0.2546493113040924}\n"
     ]
    },
    {
     "name": "stderr",
     "output_type": "stream",
     "text": [
      " 90%|█████████ | 54001/60000 [5:57:12<1:50:03,  1.10s/it]"
     ]
    },
    {
     "name": "stdout",
     "output_type": "stream",
     "text": [
      "{'train': 0.2584426701068878, 'val': 0.2620809078216553}\n"
     ]
    },
    {
     "name": "stderr",
     "output_type": "stream",
     "text": [
      " 91%|█████████ | 54301/60000 [5:59:11<1:39:55,  1.05s/it]"
     ]
    },
    {
     "name": "stdout",
     "output_type": "stream",
     "text": [
      "{'train': 0.2669464349746704, 'val': 0.2627847492694855}\n"
     ]
    },
    {
     "name": "stderr",
     "output_type": "stream",
     "text": [
      " 91%|█████████ | 54601/60000 [6:01:10<1:34:37,  1.05s/it]"
     ]
    },
    {
     "name": "stdout",
     "output_type": "stream",
     "text": [
      "{'train': 0.24878881871700287, 'val': 0.2615889310836792}\n"
     ]
    },
    {
     "name": "stderr",
     "output_type": "stream",
     "text": [
      " 92%|█████████▏| 54901/60000 [6:03:10<1:30:52,  1.07s/it]"
     ]
    },
    {
     "name": "stdout",
     "output_type": "stream",
     "text": [
      "{'train': 0.2575978934764862, 'val': 0.2586638033390045}\n"
     ]
    },
    {
     "name": "stderr",
     "output_type": "stream",
     "text": [
      " 92%|█████████▏| 55201/60000 [6:05:10<1:25:53,  1.07s/it]"
     ]
    },
    {
     "name": "stdout",
     "output_type": "stream",
     "text": [
      "{'train': 0.2542804777622223, 'val': 0.25526633858680725}\n"
     ]
    },
    {
     "name": "stderr",
     "output_type": "stream",
     "text": [
      " 93%|█████████▎| 55501/60000 [6:07:10<1:19:52,  1.07s/it]"
     ]
    },
    {
     "name": "stdout",
     "output_type": "stream",
     "text": [
      "{'train': 0.26038044691085815, 'val': 0.2569216191768646}\n"
     ]
    },
    {
     "name": "stderr",
     "output_type": "stream",
     "text": [
      " 93%|█████████▎| 55801/60000 [6:09:10<1:14:30,  1.06s/it]"
     ]
    },
    {
     "name": "stdout",
     "output_type": "stream",
     "text": [
      "{'train': 0.26125800609588623, 'val': 0.26488253474235535}\n"
     ]
    },
    {
     "name": "stderr",
     "output_type": "stream",
     "text": [
      " 94%|█████████▎| 56101/60000 [6:11:10<1:09:28,  1.07s/it]"
     ]
    },
    {
     "name": "stdout",
     "output_type": "stream",
     "text": [
      "{'train': 0.26029422879219055, 'val': 0.26341745257377625}\n"
     ]
    },
    {
     "name": "stderr",
     "output_type": "stream",
     "text": [
      " 94%|█████████▍| 56401/60000 [6:13:10<1:04:11,  1.07s/it]"
     ]
    },
    {
     "name": "stdout",
     "output_type": "stream",
     "text": [
      "{'train': 0.2536241114139557, 'val': 0.2636404037475586}\n"
     ]
    },
    {
     "name": "stderr",
     "output_type": "stream",
     "text": [
      " 95%|█████████▍| 56701/60000 [6:15:10<58:49,  1.07s/it]  "
     ]
    },
    {
     "name": "stdout",
     "output_type": "stream",
     "text": [
      "{'train': 0.2594403326511383, 'val': 0.26212430000305176}\n"
     ]
    },
    {
     "name": "stderr",
     "output_type": "stream",
     "text": [
      " 95%|█████████▌| 57001/60000 [6:17:11<55:32,  1.11s/it]"
     ]
    },
    {
     "name": "stdout",
     "output_type": "stream",
     "text": [
      "{'train': 0.26340383291244507, 'val': 0.25805842876434326}\n"
     ]
    },
    {
     "name": "stderr",
     "output_type": "stream",
     "text": [
      " 96%|█████████▌| 57301/60000 [6:19:10<47:33,  1.06s/it]"
     ]
    },
    {
     "name": "stdout",
     "output_type": "stream",
     "text": [
      "{'train': 0.25639718770980835, 'val': 0.2644819915294647}\n"
     ]
    },
    {
     "name": "stderr",
     "output_type": "stream",
     "text": [
      " 96%|█████████▌| 57601/60000 [6:21:08<41:43,  1.04s/it]"
     ]
    },
    {
     "name": "stdout",
     "output_type": "stream",
     "text": [
      "{'train': 0.2653248608112335, 'val': 0.25731125473976135}\n"
     ]
    },
    {
     "name": "stderr",
     "output_type": "stream",
     "text": [
      " 97%|█████████▋| 57901/60000 [6:23:05<36:53,  1.05s/it]"
     ]
    },
    {
     "name": "stdout",
     "output_type": "stream",
     "text": [
      "{'train': 0.2632622718811035, 'val': 0.25767773389816284}\n"
     ]
    },
    {
     "name": "stderr",
     "output_type": "stream",
     "text": [
      " 97%|█████████▋| 58201/60000 [6:25:04<31:17,  1.04s/it]"
     ]
    },
    {
     "name": "stdout",
     "output_type": "stream",
     "text": [
      "{'train': 0.2576989233493805, 'val': 0.25660163164138794}\n"
     ]
    },
    {
     "name": "stderr",
     "output_type": "stream",
     "text": [
      " 98%|█████████▊| 58501/60000 [6:27:02<25:27,  1.02s/it]"
     ]
    },
    {
     "name": "stdout",
     "output_type": "stream",
     "text": [
      "{'train': 0.2573850452899933, 'val': 0.2598285377025604}\n"
     ]
    },
    {
     "name": "stderr",
     "output_type": "stream",
     "text": [
      " 98%|█████████▊| 58801/60000 [6:28:59<21:14,  1.06s/it]"
     ]
    },
    {
     "name": "stdout",
     "output_type": "stream",
     "text": [
      "{'train': 0.25452539324760437, 'val': 0.25426116585731506}\n"
     ]
    },
    {
     "name": "stderr",
     "output_type": "stream",
     "text": [
      " 99%|█████████▊| 59101/60000 [6:30:57<15:58,  1.07s/it]"
     ]
    },
    {
     "name": "stdout",
     "output_type": "stream",
     "text": [
      "{'train': 0.26200008392333984, 'val': 0.25614532828330994}\n"
     ]
    },
    {
     "name": "stderr",
     "output_type": "stream",
     "text": [
      " 99%|█████████▉| 59401/60000 [6:32:55<10:27,  1.05s/it]"
     ]
    },
    {
     "name": "stdout",
     "output_type": "stream",
     "text": [
      "{'train': 0.25657400488853455, 'val': 0.255526602268219}\n"
     ]
    },
    {
     "name": "stderr",
     "output_type": "stream",
     "text": [
      "100%|█████████▉| 59701/60000 [6:34:53<05:10,  1.04s/it]"
     ]
    },
    {
     "name": "stdout",
     "output_type": "stream",
     "text": [
      "{'train': 0.2611274719238281, 'val': 0.25617286562919617}\n"
     ]
    },
    {
     "name": "stderr",
     "output_type": "stream",
     "text": [
      "100%|██████████| 60000/60000 [6:36:48<00:00,  2.52it/s]\n"
     ]
    }
   ],
   "source": [
    "dump_model_interval = 1000\n",
    "chars_per_token=3.9\n",
    "\n",
    "#print('loading last model')\n",
    "#model.load_state_dict(torch.load('tiny-stories-model-12.pt'))\n",
    "\n",
    "\n",
    "for steps in tqdm.tqdm(range(0, max_iters)):\n",
    "    xb, yb = get_batch('train')\n",
    "    # loss\n",
    "    logits, loss = model(xb, yb)\n",
    "    optimizer.zero_grad(set_to_none=True)\n",
    "\n",
    "    loss.backward()\n",
    "    optimizer.step()\n",
    "    if steps % eval_interval == 0:\n",
    "        losses = estimate_loss()\n",
    "        # wandb.log({\"train\": losses['train'].item(), \"val\": losses['val'].item(), \"l2\":l2})\n",
    "        print({\"train\": losses['train'].item(), \"val\": losses['val'].item()})\n",
    "    if steps % dump_model_interval == 0 and steps > 0:\n",
    "        model_no = steps // dump_model_interval\n",
    "        torch.save(model.state_dict(), f'tiny-stories-model-{model_no}.pt')\n",
    "\n",
    "losses = estimate_loss(is_last=True)"
   ]
  },
  {
   "cell_type": "code",
   "execution_count": null,
   "id": "7341ae92-9812-447e-9b96-523989708372",
   "metadata": {},
   "outputs": [],
   "source": [
    "estimate_loss()"
   ]
  },
  {
   "cell_type": "code",
   "execution_count": null,
   "id": "89593204-60c1-43a8-92dd-3e5ac55c4903",
   "metadata": {},
   "outputs": [],
   "source": [
    "torch.save(model.state_dict(), 'tiny-stories-model.pt')"
   ]
  },
  {
   "cell_type": "code",
   "execution_count": null,
   "id": "a71a0ceb-ce02-4910-b814-68b54c0927c8",
   "metadata": {},
   "outputs": [],
   "source": [
    "test_idx = torch.zeros(1, T).long() * 198\n",
    "print(decode(\n",
    "    model.generate(idx=test_idx, max_new_tokens=C)[0].tolist()\n",
    ")[T:])"
   ]
  }
 ],
 "metadata": {
  "kernelspec": {
   "display_name": "cloudspace",
   "language": "python",
   "name": "python3"
  },
  "language_info": {
   "codemirror_mode": {
    "name": "ipython",
    "version": 3
   },
   "file_extension": ".py",
   "mimetype": "text/x-python",
   "name": "python",
   "nbconvert_exporter": "python",
   "pygments_lexer": "ipython3",
   "version": "3.10.10"
  }
 },
 "nbformat": 4,
 "nbformat_minor": 5
}
